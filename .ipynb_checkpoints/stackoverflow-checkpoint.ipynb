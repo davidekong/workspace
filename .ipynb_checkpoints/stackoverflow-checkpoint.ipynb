{
 "cells": [
  {
   "cell_type": "markdown",
   "metadata": {},
   "source": [
    "### Imports"
   ]
  },
  {
   "cell_type": "code",
   "execution_count": 2,
   "metadata": {
    "executionTime": 73,
    "id": "bA5ajAmk7XH6",
    "lastSuccessfullyExecutedCode": "from bs4 import BeautifulSoup\nimport requests\nimport re\nimport pandas as pd\nimport sys"
   },
   "outputs": [],
   "source": [
    "from bs4 import BeautifulSoup\n",
    "import requests\n",
    "import re\n",
    "import pandas as pd\n",
    "import sys"
   ]
  },
  {
   "cell_type": "code",
   "execution_count": null,
   "metadata": {
    "executionTime": 0,
    "lastSuccessfullyExecutedCode": "titles = []\nvotes = []\nanswers = []\nview_counts = []\ntags = []\ntags_available = []"
   },
   "outputs": [],
   "source": []
  },
  {
   "cell_type": "markdown",
   "metadata": {},
   "source": [
    "### Defining of a simple scrape and clean function"
   ]
  },
  {
   "cell_type": "code",
   "execution_count": 22,
   "metadata": {
    "executionTime": 59,
    "lastSuccessfullyExecutedCode": "def get_page(page_no, page_size, tab, file_path, is_tagged=False, tag=None):\n    page = None\n    page_no = str(page_no)\n    page_size = str(page_size)\n    if is_tagged:\n        # arg3 is required\n        if not tag:\n            raise ValueError(\"tag is required when is_tagged is True\")\n        else:\n            page = requests.get(f\"https://stackoverflow.com/questions/tagged/{tag}?tab={tab}&page={page_no}&pagesize={page_size}\")\n    else:\n        page = requests.get(f\"https://stackoverflow.com/questions?tab={tab}&page={page_no}pagesize={page_size}\")\n    \n    # Parse it in BeautifulSoup\n    soup = BeautifulSoup(page.text, 'lxml')\n    if soup.text == '404':\n        print(\"Page not found\")\n        sys.exit()\n\n    # Get all the questions from the question box\n    questions = soup.find_all(class_=\"s-post-summary\")\n\n    # Save different data in lists:\n\n\n    for question in questions:\n        # Title\n        titles.append(question.find(class_=\"s-link\").text)\n\n        # Stats\n        stats = (question.find(class_=\"s-post-summary--stats\")).findChildren(\"div\")\n        vote = int(stats[0].find(class_=\"s-post-summary--stats-item-number\").text)\n        votes.append(vote)\n        answer = int(stats[1].find(class_=\"s-post-summary--stats-item-number\").text)\n        answers.append(answer)\n        views = int(stats[2].find(class_=\"s-post-summary--stats-item-number\").text)\n        view_counts.append(views)\n\n        # Tags\n        tags_ = question.find_all(class_=\"js-post-tag-list-item\")\n        tags_text = []\n        for tag in tags_:\n            # if (tag.text not in tags_available):\n            #     tags_available.append(tag.text)\n            tags_text.append(tag.text)\n        tags.append(tags_text)\n\n\n    # Cleaning of data and conversion to Data Frame\n    dict_ = {\n        'Title': titles, \n        'Votes': votes, \n        'Answers': answers, \n        'Views': view_counts,\n        'Tags': tags\n    }\n\n    df = pd.DataFrame(dict_)\n\n    df.to_csv(f'{file_path}')\n    #print(tags_available)\n    return df"
   },
   "outputs": [],
   "source": [
    "\n",
    "def get_question_page(page_no, page_size, tab, is_tagged=False, tag=None):\n",
    "    \n",
    "    page = None\n",
    "    soup = None\n",
    "    try:\n",
    "        page_no = str(page_no)\n",
    "        page_size = str(page_size)\n",
    "\n",
    "\n",
    "        if is_tagged:\n",
    "            # arg3 is required\n",
    "            if not tag:\n",
    "                raise ValueError(\"tag is required when is_tagged is True\")\n",
    "            else:\n",
    "                page = requests.get(f\"https://stackoverflow.com/questions/tagged/{tag}?tab={tab}&page={page_no}&pagesize={page_size}\", timeout=100)\n",
    "        else:\n",
    "            page = requests.get(f\"https://stackoverflow.com/questions?tab={tab}&page={page_no}pagesize={page_size}\", timeout=100)\n",
    "\n",
    "\n",
    "        # Parse it in BeautifulSoup\n",
    "        soup = BeautifulSoup(page.text, 'lxml')\n",
    "        if soup.text == '404':\n",
    "            print(\"Page not found\")\n",
    "            sys.exit()\n",
    "    except requests.exceptions.ConnectionError:\n",
    "        print(\"Restarting 'get_question_page'\")\n",
    "        page, soup = get_question_page(page_no, page_size, tab, is_tagged=False, tag=None)\n",
    "    return page, soup\n",
    "\n",
    "def get_all_questions(page_no, page_size, tab, file_path, is_tagged=False, tag=None):\n",
    "    answer_texts = []\n",
    "    titles = []\n",
    "    votes = []\n",
    "    answers = []\n",
    "    view_counts = []\n",
    "    tags = []\n",
    "\n",
    "    page, soup = get_question_page(page_no, page_size, tab, is_tagged, tag)\n",
    "    \n",
    "    # Get all the questions from the question box\n",
    "    questions = soup.find_all(class_=\"s-post-summary\")\n",
    "\n",
    "    # Save different data in lists:\n",
    "\n",
    "\n",
    "    for question in questions:\n",
    "        # Title\n",
    "        titles.append(question.find(class_=\"s-link\").text)\n",
    "\n",
    "        # Stats\n",
    "        stats = (question.find(class_=\"s-post-summary--stats\")).findChildren(\"div\")\n",
    "        vote = int(stats[0].find(class_=\"s-post-summary--stats-item-number\").text)\n",
    "        votes.append(vote)\n",
    "        answer = int(stats[1].find(class_=\"s-post-summary--stats-item-number\").text)\n",
    "        answers.append(answer)\n",
    "        views = int(stats[2].find(class_=\"s-post-summary--stats-item-number\").text)\n",
    "        view_counts.append(views)\n",
    "\n",
    "        # Tags\n",
    "        tags_ = question.find_all(class_=\"js-post-tag-list-item\")\n",
    "        tags_text = []\n",
    "        for tag in tags_:\n",
    "            \n",
    "            tags_text.append(tag.text)\n",
    "        tags.append(tags_text)\n",
    "\n",
    "\n",
    "    # Cleaning of data and conversion to Data Frame\n",
    "    dict_ = {\n",
    "        'Title': titles, \n",
    "        'Votes': votes, \n",
    "        'Answers': answers, \n",
    "        'Views': view_counts,\n",
    "        'Tags': tags\n",
    "    }\n",
    "\n",
    "    df = pd.DataFrame(dict_)\n",
    "\n",
    "    df.to_csv(f'{file_path}')\n",
    "    return df"
   ]
  },
  {
   "cell_type": "markdown",
   "metadata": {},
   "source": [
    "### Test our simple function"
   ]
  },
  {
   "cell_type": "code",
   "execution_count": 4,
   "metadata": {
    "executionTime": 477,
    "lastSuccessfullyExecutedCode": "for i in range(3):\n    print(get_page(i, 30, 'newest', 'python_questions.csv', True, 'python'))\n    \n# This should return a dataframe of all 'newest' questions found in the 'python' tag that can be seen in the first '3 pages'. This dataframe will be saved as a csv file 'python_questions.csv'"
   },
   "outputs": [
    {
     "name": "stdout",
     "output_type": "stream",
     "text": [
      "                                                 Title  Votes  Answers  Views  \\\n",
      "0    How to define the triconsistency threshold for...    0.0      0.0    4.0   \n",
      "1           Superpose two graphs where x-axis coincide    0.0      0.0    7.0   \n",
      "2    Deleting observations from a data frame, accor...    0.0      0.0    8.0   \n",
      "3                Having problems computing total value    0.0      0.0   15.0   \n",
      "4    Percentage calculation of each region's litera...    0.0      0.0    7.0   \n",
      "..                                                 ...    ...      ...    ...   \n",
      "145  What is the reliable way to select current dir...    0.0      0.0   13.0   \n",
      "146       Pandas DataFrame plot, colors are not unique    1.0      1.0   15.0   \n",
      "147              Excel to Image conversion with Python    0.0      0.0   14.0   \n",
      "148                             How to translate this?    0.0      0.0   25.0   \n",
      "149                          PJSUA2 python swig module    0.0      0.0    9.0   \n",
      "\n",
      "                                         Tags  \n",
      "0     [python, numpy, scipy, satellite-image]  \n",
      "1                [python, pandas, matplotlib]  \n",
      "2                 [python, numpy, statistics]  \n",
      "3                             [python, loops]  \n",
      "4     [python, python-3.x, pandas, dataframe]  \n",
      "..                                        ...  \n",
      "145  [python, pip, virtualenv, pipenv, pyenv]  \n",
      "146            [python, pandas, plot, unique]  \n",
      "147              [python, excel, python-3.11]  \n",
      "148                           [python, renpy]  \n",
      "149           [python, asterisk, sip, pjsua2]  \n",
      "\n",
      "[150 rows x 5 columns]\n"
     ]
    }
   ],
   "source": [
    "dataframe = pd.DataFrame({\n",
    "        'Title': [], \n",
    "        'Votes': [], \n",
    "        'Answers': [], \n",
    "        'Views': [],\n",
    "        'Tags': []\n",
    "    })\n",
    "for i in range(3):\n",
    "    dataframe = pd.concat([dataframe, get_all_questions(i, 30, 'newest', 'python_questions.csv', True, 'python')], axis=0, ignore_index=True)\n",
    "    \n",
    "print(dataframe)\n",
    "    \n",
    "# This should return a dataframe of all 'newest' questions found in the 'python' tag that can be seen in the first '3 pages'. This dataframe will be saved as a csv file 'python_questions.csv'"
   ]
  },
  {
   "cell_type": "markdown",
   "metadata": {},
   "source": [
    "This returns all the questions for the given arguments.\n",
    "Now that we have a good chunk of data, let's start extracting insight from it.\n",
    "My first thought will be to try to extract insights from the tags section: What tags are the most common used with Python.\n",
    "This can actually help us to determine which subjects are most related to python on the platform.\n",
    "In order to do this, we have to manipulate the function in order to collect all the available tags."
   ]
  },
  {
   "cell_type": "code",
   "execution_count": 5,
   "metadata": {},
   "outputs": [],
   "source": [
    "# Here, we define one more variable: tags_available\n",
    "tags_available = []\n",
    "def get_all_questions(page_no, page_size, tab, file_path, is_tagged=False, tag=None):\n",
    "    answer_texts = []\n",
    "    titles = []\n",
    "    votes = []\n",
    "    answers = []\n",
    "    view_counts = []\n",
    "    tags = []\n",
    "    page, soup = get_question_page(page_no, page_size, tab, is_tagged, tag)\n",
    "\n",
    "    questions = soup.find_all(class_=\"s-post-summary\")\n",
    "\n",
    "\n",
    "\n",
    "    for question in questions:\n",
    "        titles.append(question.find(class_=\"s-link\").text)\n",
    "        stats = (question.find(class_=\"s-post-summary--stats\")).findChildren(\"div\")\n",
    "        vote = int(stats[0].find(class_=\"s-post-summary--stats-item-number\").text)\n",
    "        votes.append(vote)\n",
    "        answer = int(stats[1].find(class_=\"s-post-summary--stats-item-number\").text)\n",
    "        answers.append(answer)\n",
    "        views = int(stats[2].find(class_=\"s-post-summary--stats-item-number\").text)\n",
    "        view_counts.append(views)\n",
    "        tags_ = question.find_all(class_=\"js-post-tag-list-item\")\n",
    "        tags_text = []\n",
    "        for tag in tags_:\n",
    "            \n",
    "            # Here, we check if the tag is not currently appended to tags_available. If not, we will append it.\n",
    "            if (tag.text not in tags_available):\n",
    "                tags_available.append(tag.text)\n",
    "            tags_text.append(tag.text)\n",
    "        tags.append(tags_text)\n",
    "\n",
    "\n",
    "    dict_ = {\n",
    "        'Title': titles, \n",
    "        'Votes': votes, \n",
    "        'Answers': answers, \n",
    "        'Views': view_counts,\n",
    "        'Tags': tags\n",
    "    }\n",
    "\n",
    "    df = pd.DataFrame(dict_)\n",
    "\n",
    "    df.to_csv(f'{file_path}')\n",
    "    return df\n",
    "    "
   ]
  },
  {
   "cell_type": "code",
   "execution_count": 6,
   "metadata": {},
   "outputs": [
    {
     "name": "stdout",
     "output_type": "stream",
     "text": [
      "                                                 Title  Votes  Answers  Views  \\\n",
      "0    How to define the triconsistency threshold for...    0.0      0.0    6.0   \n",
      "1           Superpose two graphs where x-axis coincide    0.0      0.0    7.0   \n",
      "2    Deleting observations from a data frame, accor...    0.0      0.0    8.0   \n",
      "3                Having problems computing total value    0.0      0.0   15.0   \n",
      "4    Percentage calculation of each region's litera...    0.0      0.0    7.0   \n",
      "..                                                 ...    ...      ...    ...   \n",
      "145  What is the reliable way to select current dir...    0.0      0.0   13.0   \n",
      "146       Pandas DataFrame plot, colors are not unique    1.0      1.0   15.0   \n",
      "147              Excel to Image conversion with Python    0.0      0.0   14.0   \n",
      "148                             How to translate this?    0.0      0.0   25.0   \n",
      "149                          PJSUA2 python swig module    0.0      0.0    9.0   \n",
      "\n",
      "                                         Tags  \n",
      "0     [python, numpy, scipy, satellite-image]  \n",
      "1                [python, pandas, matplotlib]  \n",
      "2                 [python, numpy, statistics]  \n",
      "3                             [python, loops]  \n",
      "4     [python, python-3.x, pandas, dataframe]  \n",
      "..                                        ...  \n",
      "145  [python, pip, virtualenv, pipenv, pyenv]  \n",
      "146            [python, pandas, plot, unique]  \n",
      "147              [python, excel, python-3.11]  \n",
      "148                           [python, renpy]  \n",
      "149           [python, asterisk, sip, pjsua2]  \n",
      "\n",
      "[150 rows x 5 columns]\n",
      "['python', 'numpy', 'scipy', 'satellite-image', 'pandas', 'matplotlib', 'statistics', 'loops', 'python-3.x', 'dataframe', 'huggingface-transformers', 'gpt-2', 'visual-studio', 'visual-studio-code', 'vscode-extensions', 'linux', 'bash', 'docker', 'mysql', 'block', 'statistics-bootstrap', 'arch', 'resample', 'list', 'for-loop', 'codeigniter', 'pygame', 'arrays', 'ubuntu', 'operating-system', 'python-3.10', 'ubuntu-22.04', 'multiprocessing', 'class', 'dictionary', 'django', 'scripting', 'subprocess', 'dataset', 'sqlite', 'animation', 'graph', 'telegram', 'telethon', 'regex', 'python-module', 'drop-down-menu', 'discord', 'discord.py', 'pyinstaller', 'daemon', 'uvicorn', 'snapcraft', 'notepad++', 'random-forest', 'survival-analysis', 'lifelines', 'scikit-survival', 'django-rest-framework', 'django-3.2', 'multithreading', 'cpu', 'affinity', 'tuples', 'element', 'string', 'conditional-statements', 'series', 'sql', 'xml', 'lxml', 'elementtree', 'qtableview', 'pyside6', 'combinations', 'python-itertools', 'release', 'semantic-versioning', 'opencv', 'json', 'csv', 'parsing', 'nlp', 'google-colaboratory', 'generative-adversarial-network', 'stable-diffusion', 'api', 'python-requests', 'matching', 'windows', 'nmap', 'django-forms', 'html', 'selenium-chromedriver', 'python-importlib', 'function', 'tkinter', 'kivy', 'kivymd', 'process', 'python-os', 'gremlin', 'customtkinter', 'intellij-idea', 'google-cloud-platform', 'google-cloud-dataflow', 'apache-beam', 'python-3.8', 'amazon-s3', 'great-expectations', 'batch-file', 'batch-processing', 'flask', 'vercel', 'manim', 'python-multiprocessing', 'future', 'python-scoop', 'tensorflow', 'neural-network', 'heroku', 'python-poetry', 'matrix', 'vector', 'complex-numbers', 'magnitude', 'deep-learning', 'coco', 'mscoco', 'selenium', 'javascript', 'jinja2', 'sympy', 'symbolic-math', 'machine-learning', 'abstract-syntax-tree', 'sockets', 'keras', 'curve-fitting', 'web-scraping', 'base64', 'iso-8859-1', 'nan', 'valueerror', 'ffmpeg', 'video', 'video-conversion', 'nameerror', 'vtk', 'volume-rendering', 'single-sign-on', 'numerical-methods', 'differential-equations', 'algebraic-data-types', 'scikits', 'pip', 'virtualenv', 'pipenv', 'pyenv', 'plot', 'unique', 'excel', 'python-3.11', 'renpy', 'asterisk', 'sip', 'pjsua2']\n"
     ]
    }
   ],
   "source": [
    "dataframe = pd.DataFrame({\n",
    "        'Title': [], \n",
    "        'Votes': [], \n",
    "        'Answers': [], \n",
    "        'Views': [],\n",
    "        'Tags': []\n",
    "    })\n",
    "for i in range(3):\n",
    "    dataframe = pd.concat([dataframe, get_all_questions(i, 30, 'newest', 'python_questions.csv', True, 'python')], axis=0, ignore_index=True)\n",
    "    \n",
    "print(dataframe)\n",
    "print(tags_available)  # Let's print the tags_available to see what we get"
   ]
  },
  {
   "cell_type": "markdown",
   "metadata": {},
   "source": [
    "Perfect 👌. This returns not only the dataframe, but it also gives us a list of all the tags available.\n",
    "\n",
    "So let's use some pandas magic to extract some information here."
   ]
  },
  {
   "cell_type": "code",
   "execution_count": 7,
   "metadata": {},
   "outputs": [
    {
     "name": "stdout",
     "output_type": "stream",
     "text": [
      "[150, 6, 6, 2, 21, 5, 2, 4, 9, 12, 2, 2, 2, 2, 2, 2, 2, 4, 2, 2, 2, 2, 2, 7, 4, 2, 4, 2, 2, 4, 2, 2, 3, 3, 2, 6, 2, 2, 3, 3, 2, 3, 3, 2, 2, 2, 2, 2, 2, 3, 2, 2, 2, 2, 2, 2, 2, 2, 3, 2, 2, 2, 2, 2, 2, 2, 2, 2, 2, 2, 2, 2, 2, 2, 2, 2, 2, 2, 3, 2, 4, 2, 2, 2, 2, 2, 2, 2, 2, 3, 2, 1, 2, 2, 1, 1, 2, 1, 1, 1, 1, 1, 1, 1, 1, 1, 1, 1, 1, 1, 1, 1, 2, 1, 1, 2, 1, 1, 2, 1, 1, 1, 1, 1, 1, 1, 2, 1, 1, 1, 1, 1, 1, 1, 1, 1, 1, 1, 1, 1, 1, 1, 1, 1, 1, 1, 1, 1, 1, 1, 1, 1, 1, 1, 1, 1, 1, 1, 1, 1, 1, 1, 1, 1, 1, 1, 1]\n"
     ]
    }
   ],
   "source": [
    "tag_count = []\n",
    "\n",
    "for tag in tags_available:\n",
    "    temp_df = dataframe[dataframe['Tags'].apply(lambda x: tag in x)]\n",
    "    tag_count.append(len(temp_df))\n",
    "\n",
    "\n",
    "print(tag_count)"
   ]
  },
  {
   "cell_type": "markdown",
   "metadata": {},
   "source": [
    "Here we determine the frequency of each tag in available_tags and save it to a variable tag_count\n",
    "\n",
    "In order to be able to visualize this better, why don't we make a plot diagram using matplotlib"
   ]
  },
  {
   "cell_type": "code",
   "execution_count": 8,
   "metadata": {},
   "outputs": [
    {
     "data": {
      "image/png": "[encoded data removed]",
      "text/plain": [
       "<Figure size 432x288 with 1 Axes>"
      ]
     },
     "metadata": {
      "needs_background": "light"
     },
     "output_type": "display_data"
    }
   ],
   "source": [
    "from matplotlib import pyplot as plt\n",
    "plt.bar(tags_available, tag_count)\n",
    "plt.show()"
   ]
  },
  {
   "cell_type": "markdown",
   "metadata": {},
   "source": [
    "The code snippet did give us what we wanted, but perhaps not in the best format. There are two main problems with this:\n",
    "1. We included the python tag in the list even though we already know it will have a count of 150.\n",
    "2. We included way to many tags.\n",
    "\n",
    "In order to fix these, we have to make a few adjustments to our code."
   ]
  },
  {
   "cell_type": "markdown",
   "metadata": {},
   "source": [
    "First, we have to remove the outlier tag - python - from the dataset"
   ]
  },
  {
   "cell_type": "code",
   "execution_count": 9,
   "metadata": {},
   "outputs": [],
   "source": [
    "tags_available, tag_count = tags_available[1:], tag_count[1:]"
   ]
  },
  {
   "cell_type": "markdown",
   "metadata": {},
   "source": [
    "Second, we make sure we are keeping track of only the 15 highest occuring tags"
   ]
  },
  {
   "cell_type": "code",
   "execution_count": 10,
   "metadata": {},
   "outputs": [
    {
     "name": "stdout",
     "output_type": "stream",
     "text": [
      "           Tags Available  Tags Count\n",
      "3                  pandas          21\n",
      "8               dataframe          12\n",
      "7              python-3.x           9\n",
      "22                   list           7\n",
      "0                   numpy           6\n",
      "34                 django           6\n",
      "1                   scipy           6\n",
      "4              matplotlib           5\n",
      "16                 docker           4\n",
      "28       operating-system           4\n",
      "25                 pygame           4\n",
      "23               for-loop           4\n",
      "79                    csv           4\n",
      "6                   loops           4\n",
      "57  django-rest-framework           3\n"
     ]
    }
   ],
   "source": [
    "tags_dict = {\n",
    "    'Tags Available': tags_available, \n",
    "    'Tags Count': tag_count,\n",
    "}\n",
    "tags_dataframe = pd.DataFrame(tags_dict)\n",
    "tags_dataframe = tags_dataframe.sort_values(by='Tags Count', ascending=False)\n",
    "tags_dataframe_highest_15 = tags_dataframe.iloc[0:15, :]\n",
    "print(tags_dataframe_highest_15)"
   ]
  },
  {
   "cell_type": "markdown",
   "metadata": {},
   "source": [
    "This looks much better, now lets visualize it as a bar chart"
   ]
  },
  {
   "cell_type": "code",
   "execution_count": 11,
   "metadata": {},
   "outputs": [
    {
     "data": {
      "image/png": "[encoded data removed]",
      "text/plain": [
       "<Figure size 432x288 with 1 Axes>"
      ]
     },
     "metadata": {
      "needs_background": "light"
     },
     "output_type": "display_data"
    }
   ],
   "source": [
    "plt.barh(tags_dataframe_highest_15['Tags Available'], tags_dataframe_highest_15['Tags Count'])\n",
    "plt.show()"
   ]
  },
  {
   "cell_type": "markdown",
   "metadata": {},
   "source": [
    "## Top Rated Answers"
   ]
  },
  {
   "cell_type": "markdown",
   "metadata": {},
   "source": [
    "First of all, we need to navigate into the answer page of each question.\n",
    "\n",
    "In order to do this, we need to modify our get_all_questions function to include answers."
   ]
  },
  {
   "cell_type": "code",
   "execution_count": 23,
   "metadata": {},
   "outputs": [],
   "source": [
    "def get_all_questions(page_no, page_size, tab, file_path, is_tagged=False, tag=None):\n",
    "    df = None\n",
    "    try:\n",
    "        titles = []\n",
    "        votes = []\n",
    "        answers = []\n",
    "        answer_texts = []\n",
    "        view_counts = []\n",
    "        tags = []\n",
    "        page, soup = get_question_page(page_no, page_size, tab, is_tagged, tag)\n",
    "\n",
    "        # Get all the questions from the question box\n",
    "        questions = soup.find_all(class_=\"s-post-summary\")\n",
    "\n",
    "        # Save different data in lists:\n",
    "\n",
    "\n",
    "        for question in questions:\n",
    "\n",
    "            # Title\n",
    "            titles.append(question.find(class_=\"s-link\").text)\n",
    "\n",
    "            # Stats\n",
    "            stats = (question.find(class_=\"s-post-summary--stats\")).findChildren(\"div\")\n",
    "            vote = int(stats[0].find(class_=\"s-post-summary--stats-item-number\").text)\n",
    "            votes.append(vote)\n",
    "            answer = int(stats[1].find(class_=\"s-post-summary--stats-item-number\").text)\n",
    "            answers.append(answer)\n",
    "            views = int(stats[2].find(class_=\"s-post-summary--stats-item-number\").text)\n",
    "            view_counts.append(views)\n",
    "\n",
    "            # Answer\n",
    "\n",
    "            answer_page_link = f\"https://stackoverflow.com{(question.a)['href']}\"\n",
    "\n",
    "            answer_page = requests.get(answer_page_link, timeout=100)\n",
    "            soup2 = BeautifulSoup(answer_page.text, 'lxml')\n",
    "            # Get the top rated answer\n",
    "            answer_box = soup2.find(id=\"answers\")\n",
    "            answer_paragraphs = []\n",
    "            if (answer_box != None):\n",
    "                answer_paragraphs = [_.text for _ in answer_box.find_all('p') if (answer > 0)]\n",
    "            answer_texts.append(answer_paragraphs)\n",
    "\n",
    "            # Tags\n",
    "            tags_ = question.find_all(class_=\"js-post-tag-list-item\")\n",
    "            tags_text = []\n",
    "            for tag in tags_:\n",
    "\n",
    "                tags_text.append(tag.text)\n",
    "            tags.append(tags_text)\n",
    "\n",
    "\n",
    "        # Cleaning of data and conversion to Data Frame\n",
    "        dict_ = {\n",
    "            'Title': titles,\n",
    "            'Answers': answer_texts,\n",
    "            'Votes': votes, \n",
    "            'Answer_Count': answers, \n",
    "            'Views': view_counts,\n",
    "            'Tags': tags\n",
    "        }\n",
    "\n",
    "        df = pd.DataFrame(dict_)\n",
    "\n",
    "        df.to_csv(f'{file_path}')\n",
    "    except requests.exceptions.ConnectionError:\n",
    "        print(\"Restarting 'get_all_questions'\")\n",
    "        df = get_all_questions(page_no, page_size, tab, file_path, is_tagged=False, tag=None)\n",
    "    return df"
   ]
  },
  {
   "cell_type": "code",
   "execution_count": 24,
   "metadata": {
    "scrolled": false
   },
   "outputs": [
    {
     "name": "stdout",
     "output_type": "stream",
     "text": [
      "Restarting 'get_all_questions'\n",
      "                                                Title  \\\n",
      "0   How to change/override Twilio Flex 2.0 dial pa...   \n",
      "1      Powershell: Define set local variable as array   \n",
      "2         Copy file from SFTP to Local Disc in Talend   \n",
      "3                         Problems importing PyJinius   \n",
      "4   Property 'isAdmin' does not exist on type 'Use...   \n",
      "5   How to check if user is logged in or not using...   \n",
      "6   Moviepy - NoneType' object has no attribute 's...   \n",
      "7   Undo\\Redo with multi items movement QGraphicSc...   \n",
      "8   How to obtain image from server directory and ...   \n",
      "9     Upload Sagemaker Model to S3 without encryption   \n",
      "10  Problem in program to input a 3 digit number a...   \n",
      "11                   Return database errors in Python   \n",
      "12  Latex table alignment problem with multicolumn...   \n",
      "13  Java multithreading program using sockets that...   \n",
      "14  In PowerShell, list of Git branches loses its ...   \n",
      "15  Constraints Warnings when TextField becomes Ac...   \n",
      "16  (Next.js 13 + Next-i18next): Translations does...   \n",
      "17  Are useReducer, useMemo, and useCallback commo...   \n",
      "18  How to reuse a custom object serializer for a ...   \n",
      "19  How do you keep the previous text you have had...   \n",
      "20             Why does login.php throw 404? [closed]   \n",
      "21   Remove duplicates from an unsorted linked list :   \n",
      "22  How to test a function which has calls a anoth...   \n",
      "23     Error loading Glimma and edgeR packages on Mac   \n",
      "24   Tensorboard missing distributions and histograms   \n",
      "25  find out ideal window size for coherence analy...   \n",
      "26  counting sort algorithm not working in hackerrank   \n",
      "27       VBA How To Paste With Blank One Column Over?   \n",
      "28  not able to store data in list after fetching ...   \n",
      "29  Is it possible to add an icon besides arrow in...   \n",
      "30  Slowing down the animation for the placeholder...   \n",
      "31  Why does my PowerShell script not show colors ...   \n",
      "32      Why my map not working with MeshPhongMaterial   \n",
      "33                         Inter-Components Scroll to   \n",
      "34                  PyQt application is not executing   \n",
      "35  Return specific error based on exception in AS...   \n",
      "36            How to customize material ui breakpoint   \n",
      "37                     Automatic Differentiation in R   \n",
      "38  Publish features to cosmos dB using Azure Data...   \n",
      "39  How to use a Google Cloud Project and Differen...   \n",
      "40        Typo3 solr facets formed by multiple values   \n",
      "41     Firebase getIdToken(true) times out frequently   \n",
      "42  Difference in Matrix operations with very smal...   \n",
      "43                   Windows folder share permissions   \n",
      "44  React - How do I access this code file's API w...   \n",
      "45           EF Core dynamic filter on boolean column   \n",
      "46  Is there a way to pass data to rest_api_init f...   \n",
      "47  plotting the stair step plot and extract conti...   \n",
      "48  Azure \"Service Catalog Managed Application\" wo...   \n",
      "49  How can I write a code in c in terminal inside...   \n",
      "\n",
      "                                              Answers  Votes  Answer_Count  \\\n",
      "0                                                  []    0.0           0.0   \n",
      "1                                                  []    0.0           0.0   \n",
      "2                                                  []    0.0           0.0   \n",
      "3                                                  []    0.0           0.0   \n",
      "4                                                  []    0.0           0.0   \n",
      "5                                                  []    0.0           0.0   \n",
      "6                                                  []    0.0           0.0   \n",
      "7                                                  []    0.0           0.0   \n",
      "8                                                  []    0.0           0.0   \n",
      "9                                                  []    0.0           0.0   \n",
      "10                                                 []    0.0           0.0   \n",
      "11                                                 []    0.0           0.0   \n",
      "12                                                 []    0.0           0.0   \n",
      "13                                                 []    0.0           0.0   \n",
      "14                                                 []    0.0           0.0   \n",
      "15                                                 []    0.0           0.0   \n",
      "16                                                 []    0.0           0.0   \n",
      "17                                                 []    0.0           0.0   \n",
      "18                                                 []    0.0           0.0   \n",
      "19                                                 []    0.0           0.0   \n",
      "20                                                 []    0.0           0.0   \n",
      "21                                                 []    0.0           0.0   \n",
      "22                                                 []    0.0           0.0   \n",
      "23                                                 []    0.0           0.0   \n",
      "24                                                 []    0.0           0.0   \n",
      "25                                                 []    0.0           0.0   \n",
      "26                                                 []   -2.0           0.0   \n",
      "27                                                 []    0.0           0.0   \n",
      "28                                                 []    0.0           0.0   \n",
      "29                                                 []    0.0           0.0   \n",
      "30                                                 []    0.0           0.0   \n",
      "31                                                 []    0.0           0.0   \n",
      "32                                                 []    0.0           0.0   \n",
      "33                                                 []    0.0           0.0   \n",
      "34                                                 []    0.0           0.0   \n",
      "35                                                 []    1.0           0.0   \n",
      "36                                                 []    0.0           0.0   \n",
      "37                                                 []    0.0           0.0   \n",
      "38                                                 []    0.0           0.0   \n",
      "39                                                 []    0.0           0.0   \n",
      "40                                                 []    0.0           0.0   \n",
      "41                                                 []    0.0           0.0   \n",
      "42                                                 []    0.0           0.0   \n",
      "43                                                 []    0.0           0.0   \n",
      "44                                                 []    0.0           0.0   \n",
      "45  [LINQ queries are already dynamic. Every LINQ ...    0.0           1.0   \n",
      "46                                                 []    0.0           0.0   \n",
      "47                                                 []    0.0           0.0   \n",
      "48                                                 []    0.0           0.0   \n",
      "49                                                 []   -2.0           0.0   \n",
      "\n",
      "    Views                                               Tags  \n",
      "0     2.0            [css, twilio, twilio-api, twilio-twiml]  \n",
      "1     2.0                                       [powershell]  \n",
      "2     2.0                  [etl, sftp, talend, file-copying]  \n",
      "3     2.0                             [python, pip, pyjnius]  \n",
      "4     3.0      [angular, typescript, http, rxjs, observable]  \n",
      "5     3.0                             [javascript, firebase]  \n",
      "6     2.0                                  [python, moviepy]  \n",
      "7     2.0    [c++, qt, pyqt5, qgraphicsview, qgraphicsscene]  \n",
      "8     2.0                 [c#, angular, asp.net-core-webapi]  \n",
      "9     2.0  [amazon-web-services, amazon-s3, amazon-sagema...  \n",
      "10    3.0                                    [java, integer]  \n",
      "11    5.0                  [python, azure-functions, pyodbc]  \n",
      "12    3.0                                            [latex]  \n",
      "13    2.0                    [java, multithreading, sockets]  \n",
      "14    5.0                                       [powershell]  \n",
      "15    2.0           [ios, swift, swiftui, layout, wkwebview]  \n",
      "16    2.0                            [next.js, next-i18next]  \n",
      "17    6.0                             [reactjs, react-hooks]  \n",
      "18    4.0       [java, json, kotlin, serialization, jackson]  \n",
      "19    6.0                                 [javascript, html]  \n",
      "20   10.0                          [php, html, web, backend]  \n",
      "21    4.0             [java, linked-list, duplicates, stack]  \n",
      "22    8.0      [javascript, node.js, jestjs, mocha.js, chai]  \n",
      "23    3.0                           [r, macos, bioconductor]  \n",
      "24    2.0  [python, tensorflow, keras, deep-learning, ten...  \n",
      "25    7.0                                    [python, scipy]  \n",
      "26   13.0        [c++, sorting, long-integer, counting-sort]  \n",
      "27    5.0                                       [excel, vba]  \n",
      "28    7.0         [node.js, mongodb, express, mongoose, ejs]  \n",
      "29    4.0                                 [css, bootstrap-4]  \n",
      "30    5.0  [javascript, css, angular, angular-material, a...  \n",
      "31    7.0                            [powershell, scripting]  \n",
      "32    6.0  [javascript, three.js, svelte, vite, texture-m...  \n",
      "33    6.0              [html, css, scroll, components, next]  \n",
      "34    7.0                                    [python, pyqt5]  \n",
      "35   11.0  [c#, asp.net, .net, asp.net-core, asp.net-web-...  \n",
      "36    7.0   [reactjs, next.js, material-ui, material-design]  \n",
      "37    5.0                                    [r, automation]  \n",
      "38    5.0  [azure-cosmosdb, azure-databricks, feature-store]  \n",
      "39    7.0  [android, flutter, google-cloud-platform, fire...  \n",
      "40    5.0                          [solr, typo3, typoscript]  \n",
      "41    7.0             [android, firebase, kotlin-coroutines]  \n",
      "42    8.0            [c++, matrix, eigen, fortran90, eigen3]  \n",
      "43    6.0  [windows, networking, permissions, ip-address,...  \n",
      "44    5.0  [react-hooks, jestjs, react-testing-library, j...  \n",
      "45    7.0                            [entity-framework-core]  \n",
      "46    4.0                            [ajax, wordpress, rest]  \n",
      "47   10.0     [python, pandas, dataframe, numpy, matplotlib]  \n",
      "48    6.0      [azure, azure-marketplace, azure-managed-app]  \n",
      "49   12.0                              [c, function, ubuntu]  \n"
     ]
    }
   ],
   "source": [
    "dataframe = pd.DataFrame({\n",
    "        'Title': [],\n",
    "        'Answers': [], \n",
    "        'Votes': [],\n",
    "        'Answer_Count': [],\n",
    "        'Views': [],\n",
    "        'Tags': []\n",
    "    })\n",
    "for i in range(1):\n",
    "    dataframe = pd.concat([dataframe, get_all_questions(i+1, 20, 'newest', 'python_questions.csv', True, 'python')], axis=0, ignore_index=True)\n",
    "    \n",
    "print(dataframe)"
   ]
  },
  {
   "cell_type": "markdown",
   "metadata": {},
   "source": [
    "Our code has been modified. We have successfully added a new column (Answers) to the Data Frame."
   ]
  },
  {
   "cell_type": "markdown",
   "metadata": {},
   "source": [
    "## Sentimental Analysis\n",
    "\n",
    "What if we were able to determine the communities overall attitude towards a particular programming language or technology?\n",
    "In order to do this, we will have to take the sentimental analysis score of each question corresponding to a particular programming language or technology and take the average of all these scores."
   ]
  },
  {
   "cell_type": "markdown",
   "metadata": {},
   "source": [
    "First of all, it would be convinient for us to compile the for loop as its own function as such:"
   ]
  },
  {
   "cell_type": "code",
   "execution_count": null,
   "metadata": {},
   "outputs": [],
   "source": [
    "def compile_questions(pages, questions_per_page, tab, file_path, is_tagged, tag):\n",
    "    dataframe = None\n",
    "    try:\n",
    "        dataframe = pd.DataFrame({\n",
    "            'Title': [],\n",
    "            'Answers': [], \n",
    "            'Votes': [],\n",
    "            'Answer_Count': [],\n",
    "            'Views': [],\n",
    "            'Tags': []\n",
    "        })\n",
    "        for i in range(pages):\n",
    "            dataframe = pd.concat([dataframe, get_all_questions(i+1, questions_per_page, tab, file_path, is_tagged, tag)], axis=0, ignore_index=True)\n",
    "    except requests.exceptions.ConnectionError:\n",
    "        print(\"Restart 'compile_questions'\")\n",
    "        dataframe = compile_questions(pages, questions_per_page, tab, file_path, is_tagged, tag)\n",
    "    return dataframe"
   ]
  },
  {
   "cell_type": "markdown",
   "metadata": {},
   "source": [
    "Let's do a final test on our function"
   ]
  },
  {
   "cell_type": "markdown",
   "metadata": {},
   "source": [
    "In order to get the sentimentals of all the languages and technologies on stackoverflow, we must target the tags that are available.\n",
    "\n",
    "We can do this by defining a function named get_tags that will do this for us."
   ]
  },
  {
   "cell_type": "code",
   "execution_count": null,
   "metadata": {},
   "outputs": [],
   "source": [
    "# https://stackoverflow.com/tags?page={page}&tab={tab}\n",
    "# class=\"post-tag\"\n",
    "def get_tag_page(pages, tab):\n",
    "    tags = []\n",
    "    for i in range(pages):\n",
    "        html_page = requests.get(f\"https://stackoverflow.com/tags?page={i+1}&tab={tab}\")\n",
    "        soup = BeautifulSoup(html_page.text, 'lxml')\n",
    "        tags_elem = soup.find_all(class_=\"post-tag\")\n",
    "        tags += [tag.text for tag in tags_elem]\n",
    "        for i, tag in enumerate(tags):\n",
    "            tags[i] = tag.replace(\"#\", \"%23\")\n",
    "            tags[i] = tags[i].replace(\"+\", \"%2B\")\n",
    "            \n",
    "    return tags"
   ]
  },
  {
   "cell_type": "code",
   "execution_count": null,
   "metadata": {
    "scrolled": false
   },
   "outputs": [],
   "source": [
    "tags = get_tag_page(3, 'popular')\n",
    "print(tags)"
   ]
  },
  {
   "cell_type": "markdown",
   "metadata": {},
   "source": [
    "We now have a way to retrieve and store all the tags present on 'n' pages.\n",
    "\n",
    "Now we can weave together all the functions that we have in order to get the questions corresepoding to these tags."
   ]
  },
  {
   "cell_type": "code",
   "execution_count": null,
   "metadata": {},
   "outputs": [],
   "source": [
    "!pip install textblob"
   ]
  },
  {
   "cell_type": "code",
   "execution_count": null,
   "metadata": {},
   "outputs": [],
   "source": [
    "from textblob import TextBlob\n",
    "tags = get_tag_page(1, 'popular')\n",
    "polarities = []\n",
    "for tag in tags[:7]:\n",
    "    df = compile_questions(1, 9, 'newest', 'questions.csv', True, tag)\n",
    "    total_polarity = 0\n",
    "    for title in df['Title']:\n",
    "        polarity = (TextBlob(title)).polarity\n",
    "        total_polarity += polarity\n",
    "    average_polarity = total_polarity / len(df)\n",
    "    polarities.append(average_polarity)\n",
    "    print(f\"{tag} done.\")"
   ]
  },
  {
   "cell_type": "code",
   "execution_count": null,
   "metadata": {
    "scrolled": false
   },
   "outputs": [],
   "source": [
    "print(tags[:7], polarities)"
   ]
  },
  {
   "cell_type": "markdown",
   "metadata": {},
   "source": [
    "So now we get the tags and the average polarity tied to them. With this, we might be able to tell which languages and technologies people have the most problems with.\n",
    "\n",
    "All that is left now is to visualize them."
   ]
  },
  {
   "cell_type": "code",
   "execution_count": null,
   "metadata": {},
   "outputs": [],
   "source": [
    "plt.barh(tags[0:7], polarities)\n",
    "plt.show()"
   ]
  },
  {
   "cell_type": "markdown",
   "metadata": {},
   "source": [
    "This gives us a rough estimate of how much each language or technology is associated with being problematic or complex. Of course, the accuracy of this quick calculation will become better the more data you include."
   ]
  },
  {
   "cell_type": "code",
   "execution_count": null,
   "metadata": {},
   "outputs": [],
   "source": [
    "tags = get_tag_page(1, 'popular')\n",
    "polarities = []\n",
    "for tag in tags:\n",
    "    df = compile_questions(1, 9, 'newest', 'questions.csv', True, tag)\n",
    "    total_polarity = 0\n",
    "    for title in df['Title']:\n",
    "        polarity = (TextBlob(title)).polarity\n",
    "        total_polarity += polarity\n",
    "    average_polarity = total_polarity / len(df)\n",
    "    polarities.append(average_polarity)\n",
    "    print(f\"{tag} done.\")"
   ]
  },
  {
   "cell_type": "code",
   "execution_count": null,
   "metadata": {},
   "outputs": [],
   "source": []
  },
  {
   "cell_type": "markdown",
   "metadata": {},
   "source": [
    "## Trending Tracker"
   ]
  },
  {
   "cell_type": "markdown",
   "metadata": {},
   "source": [
    "What if we had a way to track the rise an fall of activity regarding particular technologies relative to others? In order to do this, we have to create a loop that iterates through a list of tags.\n",
    "\n",
    "P.S: In other instances, it would be better to make our tracker to be asynchronous using services like redis and celery."
   ]
  },
  {
   "cell_type": "markdown",
   "metadata": {},
   "source": [
    "First we make a function that is able to read the amount of questions received each day. "
   ]
  },
  {
   "cell_type": "code",
   "execution_count": null,
   "metadata": {},
   "outputs": [],
   "source": [
    "# https://stackoverflow.com/questions/tagged/javascript?sort=newest&days={days}\n",
    "def get_number_of_questions_per_day(number_of_days, tag):\n",
    "    question_amounts = []\n",
    "    try:\n",
    "        for n in range(number_of_days):\n",
    "            page = requests.get(f\"https://stackoverflow.com/questions/tagged/{tag}?days={n+1}\")\n",
    "            soup = BeautifulSoup(page.text, 'lxml')\n",
    "            no_of_questions = soup.find(class_=\"fs-body3\").text\n",
    "            no_of_questions = no_of_questions.replace(',', '')\n",
    "            regex = re.search(r\"\\d+\", no_of_questions)\n",
    "            no_of_questions = no_of_questions[regex.start():regex.end()]\n",
    "            no_of_questions = int(no_of_questions)\n",
    "            if n == 0:\n",
    "                question_amounts.append(no_of_questions)\n",
    "            else:\n",
    "                question_amounts.append(no_of_questions - sum(question_amounts[:n]))\n",
    "            print(f'Done with day {n+1}.')\n",
    "    except requests.exceptions.ConnectionError:\n",
    "        print(\"Restarting 'get_number_of_questions_per_day'\")\n",
    "        question_amounts = get_number_of_questions_per_day(number_of_days, tag)\n",
    "    return question_amounts"
   ]
  },
  {
   "cell_type": "markdown",
   "metadata": {},
   "source": [
    "Alright so our get_number_of_questions_per_day function has been created. Let's now test it."
   ]
  },
  {
   "cell_type": "code",
   "execution_count": null,
   "metadata": {
    "scrolled": true
   },
   "outputs": [],
   "source": [
    "trend_list = get_number_of_questions_per_day(25, 'python')\n",
    "print(trend_list)"
   ]
  },
  {
   "cell_type": "markdown",
   "metadata": {},
   "source": [
    "Now we can iterate this function through every tag. "
   ]
  },
  {
   "cell_type": "code",
   "execution_count": null,
   "metadata": {
    "scrolled": true
   },
   "outputs": [],
   "source": [
    "import numpy as np\n",
    "fig, ax = plt.subplots()\n",
    "for tag in tags[:5]:\n",
    "    trend_list = get_number_of_questions_per_day(25, tag)\n",
    "    ax.plot(range(1, 26), list(reversed(trend_list)), label=tag)\n",
    "    print(trend_list)\n",
    "ax.legend()\n",
    "# Set the locations of the x-axis tick marks\n",
    "ax.set_xticks(np.arange(1, 26, 1))\n",
    "\n",
    "# Set the labels of the x-axis tick marks\n",
    "ax.set_xticklabels(np.arange(1, 26, 1))\n",
    "plt.show()"
   ]
  },
  {
   "cell_type": "code",
   "execution_count": null,
   "metadata": {},
   "outputs": [],
   "source": []
  }
 ],
 "metadata": {
  "colab": {
   "name": "Welcome to DataCamp Workspaces.ipynb",
   "provenance": []
  },
  "kernelspec": {
   "display_name": "Python 3",
   "language": "python",
   "name": "python3"
  },
  "language_info": {
   "codemirror_mode": {
    "name": "ipython",
    "version": 3
   },
   "file_extension": ".py",
   "mimetype": "text/x-python",
   "name": "python",
   "nbconvert_exporter": "python",
   "pygments_lexer": "ipython3",
   "version": "3.8.5"
  }
 },
 "nbformat": 4,
 "nbformat_minor": 5
}
