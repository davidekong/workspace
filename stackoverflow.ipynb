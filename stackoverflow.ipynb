{
 "cells": [
  {
   "cell_type": "markdown",
   "metadata": {},
   "source": [
    "### Imports"
   ]
  },
  {
   "cell_type": "code",
   "execution_count": 1,
   "metadata": {
    "executionTime": 73,
    "id": "bA5ajAmk7XH6",
    "lastSuccessfullyExecutedCode": "from bs4 import BeautifulSoup\nimport requests\nimport re\nimport pandas as pd\nimport sys"
   },
   "outputs": [],
   "source": [
    "from bs4 import BeautifulSoup\n",
    "import requests\n",
    "import re\n",
    "import pandas as pd\n",
    "import sys"
   ]
  },
  {
   "cell_type": "code",
   "execution_count": null,
   "metadata": {
    "executionTime": 0,
    "lastSuccessfullyExecutedCode": "titles = []\nvotes = []\nanswers = []\nview_counts = []\ntags = []\ntags_available = []"
   },
   "outputs": [],
   "source": []
  },
  {
   "cell_type": "markdown",
   "metadata": {},
   "source": [
    "### Defining of a simple scrape and clean function"
   ]
  },
  {
   "cell_type": "code",
   "execution_count": 2,
   "metadata": {
    "executionTime": 59,
    "lastSuccessfullyExecutedCode": "def get_page(page_no, page_size, tab, file_path, is_tagged=False, tag=None):\n    page = None\n    page_no = str(page_no)\n    page_size = str(page_size)\n    if is_tagged:\n        # arg3 is required\n        if not tag:\n            raise ValueError(\"tag is required when is_tagged is True\")\n        else:\n            page = requests.get(f\"https://stackoverflow.com/questions/tagged/{tag}?tab={tab}&page={page_no}&pagesize={page_size}\")\n    else:\n        page = requests.get(f\"https://stackoverflow.com/questions?tab={tab}&page={page_no}pagesize={page_size}\")\n    \n    # Parse it in BeautifulSoup\n    soup = BeautifulSoup(page.text, 'lxml')\n    if soup.text == '404':\n        print(\"Page not found\")\n        sys.exit()\n\n    # Get all the questions from the question box\n    questions = soup.find_all(class_=\"s-post-summary\")\n\n    # Save different data in lists:\n\n\n    for question in questions:\n        # Title\n        titles.append(question.find(class_=\"s-link\").text)\n\n        # Stats\n        stats = (question.find(class_=\"s-post-summary--stats\")).findChildren(\"div\")\n        vote = int(stats[0].find(class_=\"s-post-summary--stats-item-number\").text)\n        votes.append(vote)\n        answer = int(stats[1].find(class_=\"s-post-summary--stats-item-number\").text)\n        answers.append(answer)\n        views = int(stats[2].find(class_=\"s-post-summary--stats-item-number\").text)\n        view_counts.append(views)\n\n        # Tags\n        tags_ = question.find_all(class_=\"js-post-tag-list-item\")\n        tags_text = []\n        for tag in tags_:\n            # if (tag.text not in tags_available):\n            #     tags_available.append(tag.text)\n            tags_text.append(tag.text)\n        tags.append(tags_text)\n\n\n    # Cleaning of data and conversion to Data Frame\n    dict_ = {\n        'Title': titles, \n        'Votes': votes, \n        'Answers': answers, \n        'Views': view_counts,\n        'Tags': tags\n    }\n\n    df = pd.DataFrame(dict_)\n\n    df.to_csv(f'{file_path}')\n    #print(tags_available)\n    return df"
   },
   "outputs": [],
   "source": [
    "\n",
    "def get_question_page(page_no, page_size, tab, is_tagged=False, tag=None):\n",
    "    \n",
    "    page = None\n",
    "    soup = None\n",
    "    try:\n",
    "        page_no = str(page_no)\n",
    "        page_size = str(page_size)\n",
    "\n",
    "\n",
    "        if is_tagged:\n",
    "            # arg3 is required\n",
    "            if not tag:\n",
    "                raise ValueError(\"tag is required when is_tagged is True\")\n",
    "            else:\n",
    "                page = requests.get(f\"https://stackoverflow.com/questions/tagged/{tag}?tab={tab}&page={page_no}&pagesize={page_size}\", timeout=100)\n",
    "        else:\n",
    "            page = requests.get(f\"https://stackoverflow.com/questions?tab={tab}&page={page_no}pagesize={page_size}\", timeout=100)\n",
    "\n",
    "\n",
    "        # Parse it in BeautifulSoup\n",
    "        soup = BeautifulSoup(page.text, 'lxml')\n",
    "        if soup.text == '404':\n",
    "            print(\"Page not found\")\n",
    "            sys.exit()\n",
    "    except requests.exceptions.ConnectionError:\n",
    "        print(\"Restarting 'get_question_page'\")\n",
    "        page, soup = get_question_page(page_no, page_size, tab, is_tagged=False, tag=None)\n",
    "    return page, soup\n",
    "\n",
    "def get_all_questions(page_no, page_size, tab, file_path, is_tagged=False, tag=None):\n",
    "    answer_texts = []\n",
    "    titles = []\n",
    "    votes = []\n",
    "    answers = []\n",
    "    view_counts = []\n",
    "    tags = []\n",
    "\n",
    "    page, soup = get_question_page(page_no, page_size, tab, is_tagged, tag)\n",
    "    \n",
    "    # Get all the questions from the question box\n",
    "    questions = soup.find_all(class_=\"s-post-summary\")\n",
    "\n",
    "    # Save different data in lists:\n",
    "\n",
    "\n",
    "    for question in questions:\n",
    "        # Title\n",
    "        titles.append(question.find(class_=\"s-link\").text)\n",
    "\n",
    "        # Stats\n",
    "        stats = (question.find(class_=\"s-post-summary--stats\")).findChildren(\"div\")\n",
    "        vote = int(stats[0].find(class_=\"s-post-summary--stats-item-number\").text)\n",
    "        votes.append(vote)\n",
    "        answer = int(stats[1].find(class_=\"s-post-summary--stats-item-number\").text)\n",
    "        answers.append(answer)\n",
    "        views = int(stats[2].find(class_=\"s-post-summary--stats-item-number\").text)\n",
    "        view_counts.append(views)\n",
    "\n",
    "        # Tags\n",
    "        tags_ = question.find_all(class_=\"js-post-tag-list-item\")\n",
    "        tags_text = []\n",
    "        for tag in tags_:\n",
    "            \n",
    "            tags_text.append(tag.text)\n",
    "        tags.append(tags_text)\n",
    "\n",
    "\n",
    "    # Cleaning of data and conversion to Data Frame\n",
    "    dict_ = {\n",
    "        'Title': titles, \n",
    "        'Votes': votes, \n",
    "        'Answers': answers, \n",
    "        'Views': view_counts,\n",
    "        'Tags': tags\n",
    "    }\n",
    "\n",
    "    df = pd.DataFrame(dict_)\n",
    "\n",
    "    df.to_csv(f'{file_path}')\n",
    "    return df"
   ]
  },
  {
   "cell_type": "markdown",
   "metadata": {},
   "source": [
    "### Test our simple function"
   ]
  },
  {
   "cell_type": "code",
   "execution_count": 3,
   "metadata": {
    "executionTime": 477,
    "lastSuccessfullyExecutedCode": "for i in range(3):\n    print(get_page(i, 30, 'newest', 'python_questions.csv', True, 'python'))\n    \n# This should return a dataframe of all 'newest' questions found in the 'python' tag that can be seen in the first '3 pages'. This dataframe will be saved as a csv file 'python_questions.csv'"
   },
   "outputs": [
    {
     "name": "stdout",
     "output_type": "stream",
     "text": [
      "                                                 Title  Votes  Answers  Views  \\\n",
      "0    Interacting With Dynamic Data Table And Scrapi...    0.0      0.0    2.0   \n",
      "1    XSLT Pandas - How to Pull the Grandchild value...    0.0      0.0    9.0   \n",
      "2    My Python-Selenium project automates creating ...    0.0      0.0    6.0   \n",
      "3    Plot specific dataframe columns as subplots vi...    0.0      0.0    8.0   \n",
      "4    Parsing OData Select and Expand failed: Term '...    0.0      0.0    6.0   \n",
      "..                                                 ...    ...      ...    ...   \n",
      "145  AttributeError: module 'discord' has no attrib...   -3.0      0.0   18.0   \n",
      "146                  Unable to print particle [closed]   -3.0      0.0   13.0   \n",
      "147  Type change after Operator Overloading in Pyth...   -1.0      0.0   17.0   \n",
      "148          Moviepy increases the length of the video    0.0      0.0    9.0   \n",
      "149  How do I create a 2D plot from three columns i...    0.0      0.0   15.0   \n",
      "\n",
      "                                                  Tags  \n",
      "0    [python, selenium-webdriver, web-scraping, pyt...  \n",
      "1            [python, pandas, xml, xslt, parent-child]  \n",
      "2    [python, facebook, selenium-webdriver, automat...  \n",
      "3                 [python, pandas, dataframe, subplot]  \n",
      "4    [python, azure-ad-msal, aad-b2c, azure-app-reg...  \n",
      "..                                                 ...  \n",
      "145                       [python, discord.py, pycord]  \n",
      "146                                [python, ros, rviz]  \n",
      "147                [python, oop, operator-overloading]  \n",
      "148                           [python, video, moviepy]  \n",
      "149                    [python, pandas, plot, contour]  \n",
      "\n",
      "[150 rows x 5 columns]\n"
     ]
    }
   ],
   "source": [
    "dataframe = pd.DataFrame({\n",
    "        'Title': [], \n",
    "        'Votes': [], \n",
    "        'Answers': [], \n",
    "        'Views': [],\n",
    "        'Tags': []\n",
    "    })\n",
    "for i in range(3):\n",
    "    dataframe = pd.concat([dataframe, get_all_questions(i, 30, 'newest', 'python_questions.csv', True, 'python')], axis=0, ignore_index=True)\n",
    "    \n",
    "print(dataframe)\n",
    "    \n",
    "# This should return a dataframe of all 'newest' questions found in the 'python' tag that can be seen in the first '3 pages'. This dataframe will be saved as a csv file 'python_questions.csv'"
   ]
  },
  {
   "cell_type": "markdown",
   "metadata": {},
   "source": [
    "This returns all the questions for the given arguments.\n",
    "Now that we have a good chunk of data, let's start extracting insight from it.\n",
    "My first thought will be to try to extract insights from the tags section: What tags are the most common used with Python.\n",
    "This can actually help us to determine which subjects are most related to python on the platform.\n",
    "In order to do this, we have to manipulate the function in order to collect all the available tags."
   ]
  },
  {
   "cell_type": "code",
   "execution_count": 4,
   "metadata": {},
   "outputs": [],
   "source": [
    "# Here, we define one more variable: tags_available\n",
    "tags_available = []\n",
    "def get_all_questions(page_no, page_size, tab, file_path, is_tagged=False, tag=None):\n",
    "    answer_texts = []\n",
    "    titles = []\n",
    "    votes = []\n",
    "    answers = []\n",
    "    view_counts = []\n",
    "    tags = []\n",
    "    page, soup = get_question_page(page_no, page_size, tab, is_tagged, tag)\n",
    "\n",
    "    questions = soup.find_all(class_=\"s-post-summary\")\n",
    "\n",
    "\n",
    "\n",
    "    for question in questions:\n",
    "        titles.append(question.find(class_=\"s-link\").text)\n",
    "        stats = (question.find(class_=\"s-post-summary--stats\")).findChildren(\"div\")\n",
    "        vote = int(stats[0].find(class_=\"s-post-summary--stats-item-number\").text)\n",
    "        votes.append(vote)\n",
    "        answer = int(stats[1].find(class_=\"s-post-summary--stats-item-number\").text)\n",
    "        answers.append(answer)\n",
    "        views = int(stats[2].find(class_=\"s-post-summary--stats-item-number\").text)\n",
    "        view_counts.append(views)\n",
    "        tags_ = question.find_all(class_=\"js-post-tag-list-item\")\n",
    "        tags_text = []\n",
    "        for tag in tags_:\n",
    "            \n",
    "            # Here, we check if the tag is not currently appended to tags_available. If not, we will append it.\n",
    "            if (tag.text not in tags_available):\n",
    "                tags_available.append(tag.text)\n",
    "            tags_text.append(tag.text)\n",
    "        tags.append(tags_text)\n",
    "\n",
    "\n",
    "    dict_ = {\n",
    "        'Title': titles, \n",
    "        'Votes': votes, \n",
    "        'Answers': answers, \n",
    "        'Views': view_counts,\n",
    "        'Tags': tags\n",
    "    }\n",
    "\n",
    "    df = pd.DataFrame(dict_)\n",
    "\n",
    "    df.to_csv(f'{file_path}')\n",
    "    return df\n",
    "    "
   ]
  },
  {
   "cell_type": "code",
   "execution_count": 5,
   "metadata": {},
   "outputs": [
    {
     "name": "stdout",
     "output_type": "stream",
     "text": [
      "                                                 Title  Votes  Answers  Views  \\\n",
      "0    Interacting With Dynamic Data Table And Scrapi...    0.0      0.0    2.0   \n",
      "1    XSLT Pandas - How to Pull the Grandchild value...    0.0      0.0   10.0   \n",
      "2    My Python-Selenium project automates creating ...    0.0      0.0    6.0   \n",
      "3    Plot specific dataframe columns as subplots vi...    0.0      0.0    8.0   \n",
      "4    Parsing OData Select and Expand failed: Term '...    0.0      0.0    6.0   \n",
      "..                                                 ...    ...      ...    ...   \n",
      "145  AttributeError: module 'discord' has no attrib...   -3.0      0.0   18.0   \n",
      "146                  Unable to print particle [closed]   -3.0      0.0   13.0   \n",
      "147  Type change after Operator Overloading in Pyth...   -1.0      0.0   17.0   \n",
      "148          Moviepy increases the length of the video    0.0      0.0    9.0   \n",
      "149  How do I create a 2D plot from three columns i...    0.0      0.0   15.0   \n",
      "\n",
      "                                                  Tags  \n",
      "0    [python, selenium-webdriver, web-scraping, pyt...  \n",
      "1            [python, pandas, xml, xslt, parent-child]  \n",
      "2    [python, facebook, selenium-webdriver, automat...  \n",
      "3                 [python, pandas, dataframe, subplot]  \n",
      "4    [python, azure-ad-msal, aad-b2c, azure-app-reg...  \n",
      "..                                                 ...  \n",
      "145                       [python, discord.py, pycord]  \n",
      "146                                [python, ros, rviz]  \n",
      "147                [python, oop, operator-overloading]  \n",
      "148                           [python, video, moviepy]  \n",
      "149                    [python, pandas, plot, contour]  \n",
      "\n",
      "[150 rows x 5 columns]\n",
      "['python', 'selenium-webdriver', 'web-scraping', 'python-requests', 'pandas', 'xml', 'xslt', 'parent-child', 'facebook', 'automation', 'project', 'dataframe', 'subplot', 'azure-ad-msal', 'aad-b2c', 'azure-app-registration', 'msal', 'pytest', 'eval', 'trading', 'algorithmic-trading', 'apache-spark-sql', 'sqlalchemy', 'pip', 'cython', 'recommendation-engine', 'xlwings', 'copy', 'reindex', 'web', 'hosting', 'web-hosting', 'constructor', 'pycharm', 'default-constructor', 'pyside6', 'pyqt6', 'python-3.11', 'discord', 'discord.py', 'string', 'tensorflow', 'keras', 'deep-learning', 'parallel-processing', 'mpi', 'fastapi', 'pydantic', 'default-parameters', 'pytorch', 'neural-network', 'pytorch-lightning', 'django', 'postgresql', 'docker', 'dask', 'urllib3', 'python-3.x', 'tensorflow2.0', 'transformer-model', 'multihead-attention', 'join', 'select', 'orm', 'conv-neural-network', 'tkinter', 'customtkinter', 'azure', 'azure-machine-learning-service', 'langchain', 'azureml-python-sdk', 'flask', 'flask-socketio', 'tensor', 'nlp', 'label', 'classification', 'python-polars', 'odoo', 'pyarrow', 'matplotlib', 'machine-learning', 'scikit-learn', 'k-means', 'google-cloud-firestore', 'tkinter-canvas', 'chess', 'smbus', 'pivot', 'data-wrangling', 'regex', 'expression', 'javascript', 'ubuntu', 'c#', 'c++', 'ctypes', 'function', 'multithreading', 'numpy', 'numpy-ndarray', 'plotly-dash', 'pybind11', 'pdoc', 'image', 'graphics', 'streamlit', 'argparse', 'google-colaboratory', 'training-data', 'autoencoder', 'properties', 'mp3', 'file-rename', 'mutagen', 'github', 'json', 'swin-transformer', 'debugging', 'wagtail-admin', 'python-import', 'python-importlib', 'amazon-ec2', 'aws-lambda', 'boto3', 'django-multitenant', 'anaconda', 'folium', 'match', 'shuffle', 'raspberry-pi', 'raspberry-pi-zero', 'scapy', 'packet-sniffers', 'html', 'email', 'jupyter-notebook', 'sphinx', 'restructuredtext', 'nbsphinx', 'widget', 'jupyter', 'ipython', 'performance', 'zip', 'compression', 'zlib', 'lambda', 'opencv', 'mysql', 'sqlite', 'linear-regression', 'future', 'plumber', 'object-detection', 'yolov8', 'pycord', 'ros', 'rviz', 'oop', 'operator-overloading', 'video', 'moviepy', 'plot', 'contour']\n"
     ]
    }
   ],
   "source": [
    "dataframe = pd.DataFrame({\n",
    "        'Title': [], \n",
    "        'Votes': [], \n",
    "        'Answers': [], \n",
    "        'Views': [],\n",
    "        'Tags': []\n",
    "    })\n",
    "for i in range(3):\n",
    "    dataframe = pd.concat([dataframe, get_all_questions(i, 30, 'newest', 'python_questions.csv', True, 'python')], axis=0, ignore_index=True)\n",
    "    \n",
    "print(dataframe)\n",
    "print(tags_available)  # Let's print the tags_available to see what we get"
   ]
  },
  {
   "cell_type": "markdown",
   "metadata": {},
   "source": [
    "Perfect 👌. This returns not only the dataframe, but it also gives us a list of all the tags available.\n",
    "\n",
    "So let's use some pandas magic to extract some information here."
   ]
  },
  {
   "cell_type": "code",
   "execution_count": 6,
   "metadata": {},
   "outputs": [
    {
     "name": "stdout",
     "output_type": "stream",
     "text": [
      "[150, 5, 2, 2, 15, 2, 2, 2, 2, 2, 2, 9, 4, 2, 2, 2, 2, 4, 2, 2, 2, 2, 6, 7, 2, 2, 2, 2, 2, 2, 2, 2, 2, 2, 2, 2, 2, 2, 2, 4, 4, 6, 2, 5, 2, 2, 2, 2, 2, 7, 2, 2, 6, 2, 2, 2, 2, 8, 2, 3, 2, 2, 2, 2, 2, 4, 2, 2, 2, 2, 2, 4, 2, 2, 2, 2, 2, 3, 2, 2, 2, 6, 2, 2, 2, 2, 2, 2, 2, 2, 3, 2, 2, 2, 1, 2, 1, 1, 1, 2, 1, 2, 1, 1, 2, 1, 1, 1, 1, 1, 1, 1, 1, 1, 1, 1, 2, 1, 1, 1, 1, 1, 1, 2, 1, 1, 1, 1, 1, 1, 1, 1, 1, 1, 1, 1, 1, 1, 1, 1, 1, 1, 1, 1, 1, 1, 1, 1, 1, 1, 1, 1, 1, 1, 1, 1, 1, 1, 1, 1, 1, 1, 1, 1, 1]\n"
     ]
    }
   ],
   "source": [
    "tag_count = []\n",
    "\n",
    "for tag in tags_available:\n",
    "    temp_df = dataframe[dataframe['Tags'].apply(lambda x: tag in x)]\n",
    "    tag_count.append(len(temp_df))\n",
    "\n",
    "\n",
    "print(tag_count)"
   ]
  },
  {
   "cell_type": "markdown",
   "metadata": {},
   "source": [
    "Here we determine the frequency of each tag in available_tags and save it to a variable tag_count\n",
    "\n",
    "In order to be able to visualize this better, why don't we make a plot diagram using matplotlib"
   ]
  },
  {
   "cell_type": "code",
   "execution_count": 7,
   "metadata": {},
   "outputs": [
    {
     "data": {
      "image/png": "[encoded data removed]",
      "text/plain": [
       "<Figure size 640x480 with 1 Axes>"
      ]
     },
     "metadata": {},
     "output_type": "display_data"
    }
   ],
   "source": [
    "from matplotlib import pyplot as plt\n",
    "plt.bar(tags_available, tag_count)\n",
    "plt.show()"
   ]
  },
  {
   "cell_type": "markdown",
   "metadata": {},
   "source": [
    "The code snippet did give us what we wanted, but perhaps not in the best format. There are two main problems with this:\n",
    "1. We included the python tag in the list even though we already know it will have a count of 150.\n",
    "2. We included way to many tags.\n",
    "\n",
    "In order to fix these, we have to make a few adjustments to our code."
   ]
  },
  {
   "cell_type": "markdown",
   "metadata": {},
   "source": [
    "First, we have to remove the outlier tag - python - from the dataset"
   ]
  },
  {
   "cell_type": "code",
   "execution_count": 8,
   "metadata": {},
   "outputs": [],
   "source": [
    "tags_available, tag_count = tags_available[1:], tag_count[1:]"
   ]
  },
  {
   "cell_type": "markdown",
   "metadata": {},
   "source": [
    "Second, we make sure we are keeping track of only the 15 highest occuring tags"
   ]
  },
  {
   "cell_type": "code",
   "execution_count": 9,
   "metadata": {},
   "outputs": [
    {
     "name": "stdout",
     "output_type": "stream",
     "text": [
      "        Tags Available  Tags Count\n",
      "3               pandas          15\n",
      "10           dataframe           9\n",
      "56          python-3.x           8\n",
      "48             pytorch           7\n",
      "22                 pip           7\n",
      "80    machine-learning           6\n",
      "51              django           6\n",
      "40          tensorflow           6\n",
      "21          sqlalchemy           6\n",
      "0   selenium-webdriver           5\n",
      "42       deep-learning           5\n",
      "70               flask           4\n",
      "38          discord.py           4\n",
      "39              string           4\n",
      "16              pytest           4\n"
     ]
    }
   ],
   "source": [
    "tags_dict = {\n",
    "    'Tags Available': tags_available, \n",
    "    'Tags Count': tag_count,\n",
    "}\n",
    "tags_dataframe = pd.DataFrame(tags_dict)\n",
    "tags_dataframe = tags_dataframe.sort_values(by='Tags Count', ascending=False)\n",
    "tags_dataframe_highest_15 = tags_dataframe.iloc[0:15, :]\n",
    "print(tags_dataframe_highest_15)"
   ]
  },
  {
   "cell_type": "markdown",
   "metadata": {},
   "source": [
    "This looks much better, now lets visualize it as a bar chart"
   ]
  },
  {
   "cell_type": "code",
   "execution_count": 10,
   "metadata": {},
   "outputs": [
    {
     "data": {
      "image/png": "[encoded data removed]",
      "text/plain": [
       "<Figure size 640x480 with 1 Axes>"
      ]
     },
     "metadata": {},
     "output_type": "display_data"
    }
   ],
   "source": [
    "plt.barh(tags_dataframe_highest_15['Tags Available'], tags_dataframe_highest_15['Tags Count'])\n",
    "plt.show()"
   ]
  },
  {
   "cell_type": "markdown",
   "metadata": {},
   "source": [
    "## Top Rated Answers"
   ]
  },
  {
   "cell_type": "markdown",
   "metadata": {},
   "source": [
    "First of all, we need to navigate into the answer page of each question.\n",
    "\n",
    "In order to do this, we need to modify our get_all_questions function to include answers."
   ]
  },
  {
   "cell_type": "code",
   "execution_count": 11,
   "metadata": {},
   "outputs": [],
   "source": [
    "def get_all_questions(page_no, page_size, tab, file_path, is_tagged=False, tag=None):\n",
    "    df = None\n",
    "    try:\n",
    "        titles = []\n",
    "        votes = []\n",
    "        answers = []\n",
    "        answer_texts = []\n",
    "        view_counts = []\n",
    "        tags = []\n",
    "        page, soup = get_question_page(page_no, page_size, tab, is_tagged, tag)\n",
    "\n",
    "        # Get all the questions from the question box\n",
    "        questions = soup.find_all(class_=\"s-post-summary\")\n",
    "\n",
    "        # Save different data in lists:\n",
    "\n",
    "\n",
    "        for question in questions:\n",
    "\n",
    "            # Title\n",
    "            titles.append(question.find(class_=\"s-link\").text)\n",
    "\n",
    "            # Stats\n",
    "            stats = (question.find(class_=\"s-post-summary--stats\")).findChildren(\"div\")\n",
    "            vote = int(stats[0].find(class_=\"s-post-summary--stats-item-number\").text)\n",
    "            votes.append(vote)\n",
    "            answer = int(stats[1].find(class_=\"s-post-summary--stats-item-number\").text)\n",
    "            answers.append(answer)\n",
    "            views = int(stats[2].find(class_=\"s-post-summary--stats-item-number\").text)\n",
    "            view_counts.append(views)\n",
    "\n",
    "            # Answer\n",
    "\n",
    "            answer_page_link = f\"https://stackoverflow.com{(question.a)['href']}\"\n",
    "\n",
    "            answer_page = requests.get(answer_page_link, timeout=100)\n",
    "            soup2 = BeautifulSoup(answer_page.text, 'lxml')\n",
    "            # Get the top rated answer\n",
    "            answer_box = soup2.find(id=\"answers\")\n",
    "            answer_paragraphs = []\n",
    "            if (answer_box != None):\n",
    "                answer_paragraphs = [_.text for _ in answer_box.find_all('p') if (answer > 0)]\n",
    "            answer_texts.append(answer_paragraphs)\n",
    "\n",
    "            # Tags\n",
    "            tags_ = question.find_all(class_=\"js-post-tag-list-item\")\n",
    "            tags_text = []\n",
    "            for tag in tags_:\n",
    "\n",
    "                tags_text.append(tag.text)\n",
    "            tags.append(tags_text)\n",
    "\n",
    "\n",
    "        # Cleaning of data and conversion to Data Frame\n",
    "        dict_ = {\n",
    "            'Title': titles,\n",
    "            'Answers': answer_texts,\n",
    "            'Votes': votes, \n",
    "            'Answer_Count': answers, \n",
    "            'Views': view_counts,\n",
    "            'Tags': tags\n",
    "        }\n",
    "\n",
    "        df = pd.DataFrame(dict_)\n",
    "\n",
    "        df.to_csv(f'{file_path}')\n",
    "    except requests.exceptions.ConnectionError:\n",
    "        print(\"Restarting 'get_all_questions'\")\n",
    "        df = get_all_questions(page_no, page_size, tab, file_path, is_tagged=False, tag=None)\n",
    "    return df"
   ]
  },
  {
   "cell_type": "code",
   "execution_count": 12,
   "metadata": {
    "scrolled": false
   },
   "outputs": [
    {
     "name": "stdout",
     "output_type": "stream",
     "text": [
      "                                                Title  \\\n",
      "0   Interacting With Dynamic Data Table And Scrapi...   \n",
      "1   XSLT Pandas - How to Pull the Grandchild value...   \n",
      "2   My Python-Selenium project automates creating ...   \n",
      "3   Plot specific dataframe columns as subplots vi...   \n",
      "4   Parsing OData Select and Expand failed: Term '...   \n",
      "5       HOW TO MAKE A SLIDING PUZZLE SOLVER IN PYTHON   \n",
      "6   Pytest: Specify different environments for dif...   \n",
      "7   python - using eval() to assign or replace val...   \n",
      "8   i wrote a code to get optional data from inter...   \n",
      "9   sqlalchemy: how to customize standard type lik...   \n",
      "10          why i can't install surprise in my device   \n",
      "11        Problems with xlwings sheet.range(a,b)value   \n",
      "12  How does Pandas DataFrame reindex function wor...   \n",
      "13  Is there any hosting service that allows you t...   \n",
      "14             Default Constructor not showing output   \n",
      "15  Log Viewer with custom PyQt/PySide Scrollbar w...   \n",
      "16       How do i make my bot respond to this command   \n",
      "17           how to predict on string with tensorflow   \n",
      "18   MPI receive is getting messages not meant for it   \n",
      "19                       property failure in one file   \n",
      "20  root_validator seems not to be inherited by ch...   \n",
      "21  Is it OK to have a mutable default argument if...   \n",
      "22  MARLIN training error: “You should override th...   \n",
      "23  I cannot host Django app with docker-compose, ...   \n",
      "24  How to read and store vector (List[float]) in ...   \n",
      "25  python3 -m pip: Unverified HTTPS request is be...   \n",
      "26          Find and move specific words in filenames   \n",
      "27  How to convert Tensorflow Multi-head attention...   \n",
      "28  Query parent objects and filter child lists wi...   \n",
      "29  How to make layers of residual subnetwork in P...   \n",
      "30  CustomTkinter set value in textbox after calcu...   \n",
      "31  How to load pdf files from Azure Blob Storage ...   \n",
      "32  Is there a way to create a real-time messaging...   \n",
      "33  Modifying a tensor according to a boolean tens...   \n",
      "34  I've trained a similar model to predict the mo...   \n",
      "35  How to filter duplicates based on multiple col...   \n",
      "36  Odoo 15 how to limit invoicing viewing by crea...   \n",
      "37  Why does the sum function not work with pyarro...   \n",
      "38    Need to put two bar charts together [duplicate]   \n",
      "39                          message from pandas 2.1.0   \n",
      "40    Value Error when importing KNeighborsClassifier   \n",
      "41  How to find optimal values in AgglomerativeClu...   \n",
      "42  How to run transaction on every document in co...   \n",
      "43                    Tkinter Canvas Object Placement   \n",
      "44  Chess.com API request not working when using P...   \n",
      "45     Error installing smbus module with Python 3.10   \n",
      "46      Model agnostic way to normalize output tensor   \n",
      "47  How do I compress rows in each column to get r...   \n",
      "48  Regular expression to extract first claim of p...   \n",
      "49  I have the flask server listening but nothing ...   \n",
      "\n",
      "                                              Answers  Votes  Answer_Count  \\\n",
      "0                                                  []    0.0           0.0   \n",
      "1                                                  []    0.0           0.0   \n",
      "2                                                  []    0.0           0.0   \n",
      "3                                                  []    0.0           0.0   \n",
      "4                                                  []    0.0           0.0   \n",
      "5                                                  []   -3.0           0.0   \n",
      "6                                                  []    0.0           0.0   \n",
      "7                                                  []    0.0           0.0   \n",
      "8                                                  []    0.0           0.0   \n",
      "9                                                  []    0.0           0.0   \n",
      "10                                                 []    0.0           0.0   \n",
      "11                                                 []    0.0           0.0   \n",
      "12                                                 []    0.0           0.0   \n",
      "13                                                 []   -1.0           0.0   \n",
      "14  [Correct syntax of constructor declaration :, ...   -1.0           1.0   \n",
      "15                                                 []    0.0           0.0   \n",
      "16                                                 []    0.0           0.0   \n",
      "17                                                 []   -1.0           0.0   \n",
      "18                                                 []    0.0           0.0   \n",
      "19                                                 []   -1.0           0.0   \n",
      "20                                                 []    0.0           0.0   \n",
      "21  [You don't need to put yourself in this situat...    0.0           1.0   \n",
      "22                                                 []    0.0           0.0   \n",
      "23                                                 []    0.0           0.0   \n",
      "24  [One of possible workarounds is using dd.from_...    0.0           1.0   \n",
      "25  [I am not sure what was the problem exactly, b...    0.0           1.0   \n",
      "26  [Firstly try to find where the error is coming...    0.0           2.0   \n",
      "27                                                 []    0.0           0.0   \n",
      "28                                                 []    0.0           0.0   \n",
      "29                                                 []    0.0           0.0   \n",
      "30                                                 []    0.0           0.0   \n",
      "31  [Upon reading the error message you can see th...    0.0           1.0   \n",
      "32                                                 []   -2.0           0.0   \n",
      "33                                                 []    0.0           0.0   \n",
      "34                                                 []    0.0           0.0   \n",
      "35  [This behavior was noted as ambiguous in 0.16....    0.0           1.0   \n",
      "36                                                 []    0.0           0.0   \n",
      "37  [If you don't give sum() an initial value, it ...    0.0           1.0   \n",
      "38                                                 []   -1.0           0.0   \n",
      "39                                                 []   -2.0           0.0   \n",
      "40                                                 []    0.0           0.0   \n",
      "41                                                 []    0.0           0.0   \n",
      "42                                                 []    0.0           0.0   \n",
      "43                                                 []   -1.0           0.0   \n",
      "44                                                 []    0.0           0.0   \n",
      "45  [I had solved the problem by next installation...   -1.0           1.0   \n",
      "46                                                 []    0.0           0.0   \n",
      "47  [You can create a dictionary from that datafra...    0.0           1.0   \n",
      "48  [You're missing the . in your lookahead, so it...   -1.0           1.0   \n",
      "49  [First, have you checked the developer console...   -2.0           1.0   \n",
      "\n",
      "    Views                                               Tags  \n",
      "0     2.0  [python, selenium-webdriver, web-scraping, pyt...  \n",
      "1    10.0          [python, pandas, xml, xslt, parent-child]  \n",
      "2     6.0  [python, facebook, selenium-webdriver, automat...  \n",
      "3     8.0               [python, pandas, dataframe, subplot]  \n",
      "4     6.0  [python, azure-ad-msal, aad-b2c, azure-app-reg...  \n",
      "5    16.0                                           [python]  \n",
      "6     6.0                                   [python, pytest]  \n",
      "7    13.0                                     [python, eval]  \n",
      "8     5.0             [python, trading, algorithmic-trading]  \n",
      "9     4.0             [python, apache-spark-sql, sqlalchemy]  \n",
      "10    9.0       [python, pip, cython, recommendation-engine]  \n",
      "11    6.0                                  [python, xlwings]  \n",
      "12    8.0         [python, pandas, dataframe, copy, reindex]  \n",
      "13   10.0                [python, web, hosting, web-hosting]  \n",
      "14   19.0  [python, constructor, pycharm, default-constru...  \n",
      "15    7.0              [python, pyside6, pyqt6, python-3.11]  \n",
      "16   10.0                      [python, discord, discord.py]  \n",
      "17    6.0  [python, string, tensorflow, keras, deep-learn...  \n",
      "18    2.0                 [python, parallel-processing, mpi]  \n",
      "19    8.0                       [python, sqlalchemy, pytest]  \n",
      "20    4.0                        [python, fastapi, pydantic]  \n",
      "21   31.0                       [python, default-parameters]  \n",
      "22    5.0  [python, pytorch, neural-network, pytorch-ligh...  \n",
      "23    8.0               [python, django, postgresql, docker]  \n",
      "24   12.0                  [python, pandas, dataframe, dask]  \n",
      "25    9.0                             [python, pip, urllib3]  \n",
      "26   26.0                               [python, python-3.x]  \n",
      "27    6.0  [python, pytorch, tensorflow2.0, transformer-m...  \n",
      "28    4.0            [python, join, select, sqlalchemy, orm]  \n",
      "29    6.0       [python, deep-learning, conv-neural-network]  \n",
      "30   10.0                   [python, tkinter, customtkinter]  \n",
      "31   12.0  [python, azure, azure-machine-learning-service...  \n",
      "32   19.0                    [python, flask, flask-socketio]  \n",
      "33    4.0                          [python, pytorch, tensor]  \n",
      "34    5.0               [python, nlp, label, classification]  \n",
      "35   11.0                            [python, python-polars]  \n",
      "36    8.0                                     [python, odoo]  \n",
      "37   19.0                                  [python, pyarrow]  \n",
      "38   13.0                      [python, matplotlib, subplot]  \n",
      "39   16.0                                   [python, pandas]  \n",
      "40   13.0                         [python, machine-learning]  \n",
      "41    6.0  [python, machine-learning, scikit-learn, k-means]  \n",
      "42    7.0                   [python, google-cloud-firestore]  \n",
      "43   14.0                  [python, tkinter, tkinter-canvas]  \n",
      "44   31.0                                    [python, chess]  \n",
      "45   14.0                   [python, python-3.x, pip, smbus]  \n",
      "46    6.0                               [python, tensorflow]  \n",
      "47   22.0         [python, dataframe, pivot, data-wrangling]  \n",
      "48   16.0                [python, regex, string, expression]  \n",
      "49   22.0                [javascript, python, ubuntu, flask]  \n"
     ]
    }
   ],
   "source": [
    "dataframe = pd.DataFrame({\n",
    "        'Title': [],\n",
    "        'Answers': [], \n",
    "        'Votes': [],\n",
    "        'Answer_Count': [],\n",
    "        'Views': [],\n",
    "        'Tags': []\n",
    "    })\n",
    "for i in range(1):\n",
    "    dataframe = pd.concat([dataframe, get_all_questions(i+1, 20, 'newest', 'python_questions.csv', True, 'python')], axis=0, ignore_index=True)\n",
    "    \n",
    "print(dataframe)"
   ]
  },
  {
   "cell_type": "markdown",
   "metadata": {},
   "source": [
    "Our code has been modified. We have successfully added a new column (Answers) to the Data Frame."
   ]
  },
  {
   "cell_type": "markdown",
   "metadata": {},
   "source": [
    "## Sentimental Analysis\n",
    "\n",
    "What if we were able to determine the communities overall attitude towards a particular programming language or technology?\n",
    "In order to do this, we will have to take the sentimental analysis score of each question corresponding to a particular programming language or technology and take the average of all these scores."
   ]
  },
  {
   "cell_type": "markdown",
   "metadata": {},
   "source": [
    "First of all, it would be convinient for us to compile the for loop as its own function as such:"
   ]
  },
  {
   "cell_type": "code",
   "execution_count": 13,
   "metadata": {},
   "outputs": [],
   "source": [
    "def compile_questions(pages, questions_per_page, tab, file_path, is_tagged, tag):\n",
    "    dataframe = None\n",
    "    try:\n",
    "        dataframe = pd.DataFrame({\n",
    "            'Title': [],\n",
    "            'Answers': [], \n",
    "            'Votes': [],\n",
    "            'Answer_Count': [],\n",
    "            'Views': [],\n",
    "            'Tags': []\n",
    "        })\n",
    "        for i in range(pages):\n",
    "            dataframe = pd.concat([dataframe, get_all_questions(i+1, questions_per_page, tab, file_path, is_tagged, tag)], axis=0, ignore_index=True)\n",
    "    except requests.exceptions.ConnectionError:\n",
    "        print(\"Restart 'compile_questions'\")\n",
    "        dataframe = compile_questions(pages, questions_per_page, tab, file_path, is_tagged, tag)\n",
    "    return dataframe"
   ]
  },
  {
   "cell_type": "markdown",
   "metadata": {},
   "source": [
    "Let's do a final test on our function"
   ]
  },
  {
   "cell_type": "code",
   "execution_count": 14,
   "metadata": {},
   "outputs": [
    {
     "name": "stdout",
     "output_type": "stream",
     "text": [
      "                                                Title  \\\n",
      "0               trouble with logging array properties   \n",
      "1   Why I do get this error: Cannot read propertie...   \n",
      "2   Interacting With Dynamic Data Table And Scrapi...   \n",
      "3   What are all the features you look for in a no...   \n",
      "4   How can I extract only specific data fields wh...   \n",
      "5         How to auto save only if worksheet is open?   \n",
      "6     React.ComponentPropsWithRef vs React.forwardRef   \n",
      "7   Kmm library throwing No matching variant of wa...   \n",
      "8   Build Issue in Release Mode with R8, After Xam...   \n",
      "9   How to avoid blocking connect() on unresponsiv...   \n",
      "10        Visualising RDF Triples using D3.js and Vue   \n",
      "11        upload multiple template in my online store   \n",
      "12  GoogleJsonResponseException: API call to peopl...   \n",
      "13  Azure key vault: TLS 1.0 is no longer accepted...   \n",
      "14            Filter Yaml documents by a key using yq   \n",
      "15  Is there an alternative to --add-opens command...   \n",
      "16  React - variables not getting updated in creat...   \n",
      "17  Extent report Feature is marked as failed when...   \n",
      "18  XSLT Pandas - How to Pull the Grandchild value...   \n",
      "19          How to manage the size of mysql.log file?   \n",
      "20  How to transform strings representing 'special...   \n",
      "21                           using audioclip in unity   \n",
      "22  Yarn run through exec.CommandContext with cont...   \n",
      "23  Using Script Task How to Read only half of a t...   \n",
      "24  Using 'delete' before reassigning value for po...   \n",
      "25  How to get user id of a member in discord usin...   \n",
      "26  My Python-Selenium project automates creating ...   \n",
      "27  Is there a SO area for general app development...   \n",
      "28                         Cross compiling for armv7l   \n",
      "29  How do I NOT remove trailing zeroes from a num...   \n",
      "30          Unity WebGL My Mobile Device Doesn't Tilt   \n",
      "31  Why .NET Garbage collector donot invokes destr...   \n",
      "32     MySQL STR_TO_DATE failing on times before 1970   \n",
      "33  How to dispatchEvent key up in a for loop and ...   \n",
      "34      Make azure-pipelines.yml environment specific   \n",
      "35  Plot specific dataframe columns as subplots vi...   \n",
      "36  JSON-String send via JS XMLhttpRequest looses ...   \n",
      "37    Why does hash table printing function not work?   \n",
      "38  Parsing OData Select and Expand failed: Term '...   \n",
      "39  Why is everyone in a TEAM getting meeting invi...   \n",
      "40     Problem with apt after upgrade laravel and PHP   \n",
      "41  MassTransit Skipping Messages Sent By Azure Se...   \n",
      "42  check response request in viewmodel MutableSta...   \n",
      "43  Telerik Notification Message background in red...   \n",
      "44      HOW TO MAKE A SLIDING PUZZLE SOLVER IN PYTHON   \n",
      "45  Unable to test target end point of postgre. Ge...   \n",
      "46  bash: mixing curl response with CSV column of ...   \n",
      "47  LINQ to CRM fails while left-joining more than...   \n",
      "48  Pytest: Specify different environments for dif...   \n",
      "49  python - using eval() to assign or replace val...   \n",
      "\n",
      "                                              Answers  Votes  Answer_Count  \\\n",
      "0                                                  []    0.0           0.0   \n",
      "1                                                  []   -1.0           0.0   \n",
      "2                                                  []    0.0           0.0   \n",
      "3                                                  []    0.0           0.0   \n",
      "4                                                  []    0.0           0.0   \n",
      "5                                                  []    0.0           0.0   \n",
      "6                                                  []    0.0           0.0   \n",
      "7                                                  []    0.0           0.0   \n",
      "8                                                  []    0.0           0.0   \n",
      "9                                                  []    0.0           0.0   \n",
      "10                                                 []    0.0           0.0   \n",
      "11                                                 []    0.0           0.0   \n",
      "12                                                 []    0.0           0.0   \n",
      "13  [Issue was fixed.\\nFor my local run I enabled ...    0.0           1.0   \n",
      "14  [Reference: https://github.com/mikefarah/yq/is...    0.0           1.0   \n",
      "15                                                 []   -1.0           0.0   \n",
      "16                                                 []    0.0           0.0   \n",
      "17                                                 []    0.0           0.0   \n",
      "18                                                 []    0.0           0.0   \n",
      "19  [It sounds like you're facing a storage and ma...    0.0           1.0   \n",
      "20  [You can directly use escape sequences like \"\\...    0.0           1.0   \n",
      "21                                                 []    0.0           0.0   \n",
      "22                                                 []    0.0           0.0   \n",
      "23                                                 []    0.0           0.0   \n",
      "24                                                 []    0.0           0.0   \n",
      "25                                                 []    0.0           0.0   \n",
      "26                                                 []    0.0           0.0   \n",
      "27                                                 []    0.0           0.0   \n",
      "28                                                 []    0.0           0.0   \n",
      "29  [const fees: number = 10.20;\\nconsole.log(fees...    0.0           1.0   \n",
      "30                                                 []    0.0           0.0   \n",
      "31                                                 []   -1.0           0.0   \n",
      "32                                                 []    1.0           0.0   \n",
      "33                                                 []    0.0           0.0   \n",
      "34                                                 []    0.0           0.0   \n",
      "35                                                 []    0.0           0.0   \n",
      "36                                                 []    0.0           0.0   \n",
      "37  [The loop in main inserts a pointer to p1 each...   -1.0           2.0   \n",
      "38                                                 []    0.0           0.0   \n",
      "39                                                 []   -1.0           0.0   \n",
      "40                                                 []    0.0           0.0   \n",
      "41                                                 []    0.0           0.0   \n",
      "42                                                 []    0.0           0.0   \n",
      "43                                                 []    0.0           0.0   \n",
      "44                                                 []   -3.0           0.0   \n",
      "45                                                 []    0.0           0.0   \n",
      "46                                                 []    0.0           0.0   \n",
      "47                                                 []    0.0           0.0   \n",
      "48                                                 []    0.0           0.0   \n",
      "49                                                 []    0.0           0.0   \n",
      "\n",
      "    Views                                               Tags  \n",
      "0     6.0                         [javascript, arrays, push]  \n",
      "1     6.0                                       [javascript]  \n",
      "2     3.0  [python, selenium-webdriver, web-scraping, pyt...  \n",
      "3     3.0     [project, open-source, projects-and-solutions]  \n",
      "4     6.0                           [power-automate-desktop]  \n",
      "5     9.0                                       [excel, vba]  \n",
      "6     9.0                  [javascript, reactjs, typescript]  \n",
      "7     4.0              [kotlin, maven, kotlin-multiplatform]  \n",
      "8     4.0             [android, xamarin.android, android-r8]  \n",
      "9    10.0                        [c, linux, sockets, client]  \n",
      "10    4.0          [html, vue.js, d3.js, visualization, rdf]  \n",
      "11    6.0                  [node.js, reactjs, mongodb, mern]  \n",
      "12    4.0            [google-apps-script, google-people-api]  \n",
      "13    5.0     [azure, tls1.2, azure-keyvault, azure-webapps]  \n",
      "14    6.0                              [kubernetes-helm, yq]  \n",
      "15    7.0              [java, java-11, java-17, java-module]  \n",
      "16    6.0                      [javascript, reactjs, paypal]  \n",
      "17    4.0  [testng, cucumber-jvm, extentreports, selenium...  \n",
      "18   10.0          [python, pandas, xml, xslt, parent-child]  \n",
      "19   13.0         [mysql, performance, storage, replication]  \n",
      "20   11.0                               [java, string, char]  \n",
      "21    4.0        [c#, unity-game-engine, audio, game-engine]  \n",
      "22    6.0                                  [go, hadoop-yarn]  \n",
      "23    3.0                                         [c#, ssis]  \n",
      "24   19.0                                              [c++]  \n",
      "25    4.0           [javascript, discord, discord.js, tatsu]  \n",
      "26    6.0  [python, facebook, selenium-webdriver, automat...  \n",
      "27    5.0                              [android, ios, swift]  \n",
      "28    5.0                                  [cross-compiling]  \n",
      "29   18.0                                       [typescript]  \n",
      "30    3.0                              [mobile, unity-webgl]  \n",
      "31    9.0                                    [c#, .net, clr]  \n",
      "32   12.0                                            [mysql]  \n",
      "33    6.0  [javascript, dom-events, wait, keyup, dispatch...  \n",
      "34    4.0                     [azure, pipeline, environment]  \n",
      "35    8.0               [python, pandas, dataframe, subplot]  \n",
      "36    6.0                 [javascript, json, http, encoding]  \n",
      "37   12.0                                     [c, hashtable]  \n",
      "38    6.0  [python, azure-ad-msal, aad-b2c, azure-app-reg...  \n",
      "39    6.0                                  [microsoft-teams]  \n",
      "40    5.0                    [laravel, docker, jenkins, apt]  \n",
      "41    4.0  [asp.net-web-api, azure-devops, azureservicebu...  \n",
      "42    3.0  [kotlin, retrofit2, kotlin-coroutines, kotlin-...  \n",
      "43    3.0                             [telerik, telerik-mvc]  \n",
      "44   16.0                                           [python]  \n",
      "45    4.0                      [database-migration, aws-dms]  \n",
      "46    7.0                                      [bash, xargs]  \n",
      "47    4.0             [linq, dynamics-crm-online, dataverse]  \n",
      "48    6.0                                   [python, pytest]  \n",
      "49   13.0                                     [python, eval]  \n"
     ]
    }
   ],
   "source": [
    "df = compile_questions(1, 40, 'newest', 'python_questions.csv', False, '')\n",
    "print(df)"
   ]
  },
  {
   "cell_type": "markdown",
   "metadata": {},
   "source": [
    "In order to get the sentimentals of all the languages and technologies on stackoverflow, we must target the tags that are available.\n",
    "\n",
    "We can do this by defining a function named get_tags that will do this for us."
   ]
  },
  {
   "cell_type": "code",
   "execution_count": 15,
   "metadata": {},
   "outputs": [],
   "source": [
    "# https://stackoverflow.com/tags?page={page}&tab={tab}\n",
    "# class=\"post-tag\"\n",
    "def get_tag_page(pages, tab):\n",
    "    tags = []\n",
    "    try:\n",
    "        for i in range(pages):\n",
    "            html_page = requests.get(f\"https://stackoverflow.com/tags?page={i+1}&tab={tab}\")\n",
    "            soup = BeautifulSoup(html_page.text, 'lxml')\n",
    "            tags_elem = soup.find_all(class_=\"post-tag\")\n",
    "            tags += [tag.text for tag in tags_elem]\n",
    "            for i, tag in enumerate(tags):\n",
    "                tags[i] = tag.replace(\"#\", \"%23\")\n",
    "                tags[i] = tags[i].replace(\"+\", \"%2B\")\n",
    "    except requests.exceptions.ConnectionError:\n",
    "        print(\"Restart 'get_tag_page'\")\n",
    "        tags = get_tag_page(pages, tab)\n",
    "    return tags"
   ]
  },
  {
   "cell_type": "code",
   "execution_count": 16,
   "metadata": {
    "scrolled": false
   },
   "outputs": [
    {
     "name": "stdout",
     "output_type": "stream",
     "text": [
      "['javascript', 'python', 'java', 'c%23', 'php', 'android', 'html', 'jquery', 'c%2B%2B', 'css', 'ios', 'sql', 'mysql', 'r', 'node.js', 'reactjs', 'arrays', 'c', 'asp.net', 'json', 'python-3.x', 'ruby-on-rails', '.net', 'sql-server', 'swift', 'django', 'angular', 'objective-c', 'pandas', 'excel', 'angularjs', 'regex', 'ruby', 'linux', 'ajax', 'typescript', 'iphone', 'xml', 'vba', 'spring', 'laravel', 'asp.net-mvc', 'database', 'wordpress', 'string', 'mongodb', 'postgresql', 'wpf', 'flutter', 'windows', 'xcode', 'amazon-web-services', 'bash', 'git', 'oracle', 'dataframe', 'spring-boot', 'firebase', 'list', 'vb.net', 'multithreading', 'azure', 'react-native', 'docker', 'eclipse', 'algorithm', 'macos', 'powershell', 'visual-studio', 'image', 'forms', 'numpy', 'scala', 'function', 'api', 'vue.js', 'twitter-bootstrap', 'selenium', 'performance', 'winforms', 'loops', 'python-2.7', 'matlab', 'hibernate', 'express', 'sqlite', 'rest', 'apache', 'shell', 'entity-framework', 'kotlin', 'dart', 'android-studio', 'csv', 'maven', 'linq', 'facebook', 'qt', 'dictionary', 'unit-testing', 'tensorflow', 'file', 'apache-spark', 'swing', 'class', 'asp.net-core', 'sorting', 'date']\n"
     ]
    }
   ],
   "source": [
    "tags = get_tag_page(3, 'popular')\n",
    "print(tags)"
   ]
  },
  {
   "cell_type": "markdown",
   "metadata": {},
   "source": [
    "We now have a way to retrieve and store all the tags present on 'n' pages.\n",
    "\n",
    "Now we can weave together all the functions that we have in order to get the questions corresepoding to these tags."
   ]
  },
  {
   "cell_type": "code",
   "execution_count": 17,
   "metadata": {},
   "outputs": [
    {
     "name": "stdout",
     "output_type": "stream",
     "text": [
      "Requirement already satisfied: textblob in c:\\python310\\lib\\site-packages (0.17.1)\n",
      "Requirement already satisfied: nltk>=3.1 in c:\\python310\\lib\\site-packages (from textblob) (3.7)\n",
      "Requirement already satisfied: tqdm in c:\\python310\\lib\\site-packages (from nltk>=3.1->textblob) (4.11.2)\n",
      "Requirement already satisfied: click in c:\\python310\\lib\\site-packages (from nltk>=3.1->textblob) (8.1.3)\n",
      "Requirement already satisfied: regex>=2021.8.3 in c:\\python310\\lib\\site-packages (from nltk>=3.1->textblob) (2022.10.31)\n",
      "Requirement already satisfied: joblib in c:\\python310\\lib\\site-packages (from nltk>=3.1->textblob) (1.2.0)\n",
      "Requirement already satisfied: colorama in c:\\python310\\lib\\site-packages (from click->nltk>=3.1->textblob) (0.4.5)\n"
     ]
    },
    {
     "name": "stderr",
     "output_type": "stream",
     "text": [
      "\n",
      "[notice] A new release of pip available: 22.3 -> 23.2.1\n",
      "[notice] To update, run: python.exe -m pip install --upgrade pip\n"
     ]
    }
   ],
   "source": [
    "!pip install textblob"
   ]
  },
  {
   "cell_type": "code",
   "execution_count": 18,
   "metadata": {},
   "outputs": [
    {
     "name": "stdout",
     "output_type": "stream",
     "text": [
      "javascript done.\n",
      "python done.\n",
      "java done.\n",
      "c%23 done.\n",
      "php done.\n",
      "android done.\n",
      "html done.\n"
     ]
    }
   ],
   "source": [
    "from textblob import TextBlob\n",
    "tags = get_tag_page(1, 'popular')\n",
    "polarities = []\n",
    "for tag in tags[:7]:\n",
    "    df = compile_questions(1, 9, 'newest', 'questions.csv', True, tag)\n",
    "    total_polarity = 0\n",
    "    for title in df['Title']:\n",
    "        polarity = (TextBlob(title)).polarity\n",
    "        total_polarity += polarity\n",
    "    average_polarity = total_polarity / len(df)\n",
    "    polarities.append(average_polarity)\n",
    "    print(f\"{tag} done.\")"
   ]
  },
  {
   "cell_type": "code",
   "execution_count": 19,
   "metadata": {
    "scrolled": false
   },
   "outputs": [
    {
     "name": "stdout",
     "output_type": "stream",
     "text": [
      "['javascript', 'python', 'java', 'c%23', 'php', 'android', 'html'] [-0.02505303030303031, -0.012833333333333337, -0.009952380952380954, -0.011, 0.014863636363636362, -0.025666666666666664, 0.008435064935064934]\n"
     ]
    }
   ],
   "source": [
    "print(tags[:7], polarities)"
   ]
  },
  {
   "cell_type": "markdown",
   "metadata": {},
   "source": [
    "So now we get the tags and the average polarity tied to them. With this, we might be able to tell which languages and technologies people have the most problems with.\n",
    "\n",
    "All that is left now is to visualize them."
   ]
  },
  {
   "cell_type": "code",
   "execution_count": 20,
   "metadata": {},
   "outputs": [
    {
     "data": {
      "image/png": "[encoded data removed]",
      "text/plain": [
       "<Figure size 640x480 with 1 Axes>"
      ]
     },
     "metadata": {},
     "output_type": "display_data"
    }
   ],
   "source": [
    "plt.barh(tags[0:7], polarities)\n",
    "plt.show()"
   ]
  },
  {
   "cell_type": "markdown",
   "metadata": {},
   "source": [
    "This gives us a rough estimate of how much each language or technology is associated with being problematic or complex. Of course, the accuracy of this quick calculation will become better the more data you include."
   ]
  },
  {
   "cell_type": "code",
   "execution_count": 21,
   "metadata": {},
   "outputs": [
    {
     "name": "stdout",
     "output_type": "stream",
     "text": [
      "javascript done.\n",
      "python done.\n",
      "java done.\n",
      "c%23 done.\n",
      "php done.\n",
      "android done.\n",
      "html done.\n",
      "jquery done.\n",
      "c%2B%2B done.\n",
      "css done.\n",
      "ios done.\n",
      "sql done.\n",
      "mysql done.\n",
      "r done.\n",
      "node.js done.\n",
      "reactjs done.\n",
      "arrays done.\n",
      "c done.\n",
      "asp.net done.\n",
      "json done.\n",
      "python-3.x done.\n",
      "ruby-on-rails done.\n",
      ".net done.\n",
      "sql-server done.\n",
      "swift done.\n",
      "django done.\n",
      "angular done.\n",
      "objective-c done.\n",
      "pandas done.\n",
      "excel done.\n",
      "angularjs done.\n",
      "regex done.\n",
      "ruby done.\n",
      "linux done.\n"
     ]
    },
    {
     "ename": "ValueError",
     "evalue": "invalid literal for int() with base 10: '2k'",
     "output_type": "error",
     "traceback": [
      "\u001b[1;31m---------------------------------------------------------------------------\u001b[0m",
      "\u001b[1;31mValueError\u001b[0m                                Traceback (most recent call last)",
      "Cell \u001b[1;32mIn[21], line 4\u001b[0m\n\u001b[0;32m      2\u001b[0m polarities \u001b[39m=\u001b[39m []\n\u001b[0;32m      3\u001b[0m \u001b[39mfor\u001b[39;00m tag \u001b[39min\u001b[39;00m tags:\n\u001b[1;32m----> 4\u001b[0m     df \u001b[39m=\u001b[39m compile_questions(\u001b[39m1\u001b[39;49m, \u001b[39m9\u001b[39;49m, \u001b[39m'\u001b[39;49m\u001b[39mnewest\u001b[39;49m\u001b[39m'\u001b[39;49m, \u001b[39m'\u001b[39;49m\u001b[39mquestions.csv\u001b[39;49m\u001b[39m'\u001b[39;49m, \u001b[39mTrue\u001b[39;49;00m, tag)\n\u001b[0;32m      5\u001b[0m     total_polarity \u001b[39m=\u001b[39m \u001b[39m0\u001b[39m\n\u001b[0;32m      6\u001b[0m     \u001b[39mfor\u001b[39;00m title \u001b[39min\u001b[39;00m df[\u001b[39m'\u001b[39m\u001b[39mTitle\u001b[39m\u001b[39m'\u001b[39m]:\n",
      "Cell \u001b[1;32mIn[13], line 13\u001b[0m, in \u001b[0;36mcompile_questions\u001b[1;34m(pages, questions_per_page, tab, file_path, is_tagged, tag)\u001b[0m\n\u001b[0;32m      4\u001b[0m     dataframe \u001b[39m=\u001b[39m pd\u001b[39m.\u001b[39mDataFrame({\n\u001b[0;32m      5\u001b[0m         \u001b[39m'\u001b[39m\u001b[39mTitle\u001b[39m\u001b[39m'\u001b[39m: [],\n\u001b[0;32m      6\u001b[0m         \u001b[39m'\u001b[39m\u001b[39mAnswers\u001b[39m\u001b[39m'\u001b[39m: [], \n\u001b[1;32m   (...)\u001b[0m\n\u001b[0;32m     10\u001b[0m         \u001b[39m'\u001b[39m\u001b[39mTags\u001b[39m\u001b[39m'\u001b[39m: []\n\u001b[0;32m     11\u001b[0m     })\n\u001b[0;32m     12\u001b[0m     \u001b[39mfor\u001b[39;00m i \u001b[39min\u001b[39;00m \u001b[39mrange\u001b[39m(pages):\n\u001b[1;32m---> 13\u001b[0m         dataframe \u001b[39m=\u001b[39m pd\u001b[39m.\u001b[39mconcat([dataframe, get_all_questions(i\u001b[39m+\u001b[39;49m\u001b[39m1\u001b[39;49m, questions_per_page, tab, file_path, is_tagged, tag)], axis\u001b[39m=\u001b[39m\u001b[39m0\u001b[39m, ignore_index\u001b[39m=\u001b[39m\u001b[39mTrue\u001b[39;00m)\n\u001b[0;32m     14\u001b[0m \u001b[39mexcept\u001b[39;00m requests\u001b[39m.\u001b[39mexceptions\u001b[39m.\u001b[39mConnectionError:\n\u001b[0;32m     15\u001b[0m     \u001b[39mprint\u001b[39m(\u001b[39m\"\u001b[39m\u001b[39mRestart \u001b[39m\u001b[39m'\u001b[39m\u001b[39mcompile_questions\u001b[39m\u001b[39m'\u001b[39m\u001b[39m\"\u001b[39m)\n",
      "Cell \u001b[1;32mIn[11], line 29\u001b[0m, in \u001b[0;36mget_all_questions\u001b[1;34m(page_no, page_size, tab, file_path, is_tagged, tag)\u001b[0m\n\u001b[0;32m     27\u001b[0m answer \u001b[39m=\u001b[39m \u001b[39mint\u001b[39m(stats[\u001b[39m1\u001b[39m]\u001b[39m.\u001b[39mfind(class_\u001b[39m=\u001b[39m\u001b[39m\"\u001b[39m\u001b[39ms-post-summary--stats-item-number\u001b[39m\u001b[39m\"\u001b[39m)\u001b[39m.\u001b[39mtext)\n\u001b[0;32m     28\u001b[0m answers\u001b[39m.\u001b[39mappend(answer)\n\u001b[1;32m---> 29\u001b[0m views \u001b[39m=\u001b[39m \u001b[39mint\u001b[39;49m(stats[\u001b[39m2\u001b[39;49m]\u001b[39m.\u001b[39;49mfind(class_\u001b[39m=\u001b[39;49m\u001b[39m\"\u001b[39;49m\u001b[39ms-post-summary--stats-item-number\u001b[39;49m\u001b[39m\"\u001b[39;49m)\u001b[39m.\u001b[39;49mtext)\n\u001b[0;32m     30\u001b[0m view_counts\u001b[39m.\u001b[39mappend(views)\n\u001b[0;32m     32\u001b[0m \u001b[39m# Answer\u001b[39;00m\n",
      "\u001b[1;31mValueError\u001b[0m: invalid literal for int() with base 10: '2k'"
     ]
    }
   ],
   "source": [
    "tags = get_tag_page(1, 'popular')\n",
    "polarities = []\n",
    "for tag in tags:\n",
    "    df = compile_questions(1, 9, 'newest', 'questions.csv', True, tag)\n",
    "    total_polarity = 0\n",
    "    for title in df['Title']:\n",
    "        polarity = (TextBlob(title)).polarity\n",
    "        total_polarity += polarity\n",
    "    average_polarity = total_polarity / len(df)\n",
    "    polarities.append(average_polarity)\n",
    "    print(f\"{tag} done.\")"
   ]
  },
  {
   "cell_type": "code",
   "execution_count": null,
   "metadata": {},
   "outputs": [],
   "source": []
  },
  {
   "cell_type": "markdown",
   "metadata": {},
   "source": [
    "## Trending Tracker"
   ]
  },
  {
   "cell_type": "markdown",
   "metadata": {},
   "source": [
    "What if we had a way to track the rise an fall of activity regarding particular technologies relative to others? In order to do this, we have to create a loop that iterates through a list of tags.\n",
    "\n",
    "P.S: In other instances, it would be better to make our tracker to be asynchronous using services like redis and celery."
   ]
  },
  {
   "cell_type": "markdown",
   "metadata": {},
   "source": [
    "First we make a function that is able to read the amount of questions received each day. "
   ]
  },
  {
   "cell_type": "code",
   "execution_count": null,
   "metadata": {},
   "outputs": [],
   "source": [
    "# https://stackoverflow.com/questions/tagged/javascript?sort=newest&days={days}\n",
    "def get_number_of_questions_per_day(number_of_days, tag):\n",
    "    question_amounts = []\n",
    "    try:\n",
    "        for n in range(number_of_days):\n",
    "            page = requests.get(f\"https://stackoverflow.com/questions/tagged/{tag}?days={n+1}\")\n",
    "            soup = BeautifulSoup(page.text, 'lxml')\n",
    "            no_of_questions = soup.find(class_=\"fs-body3\").text\n",
    "            no_of_questions = no_of_questions.replace(',', '')\n",
    "            regex = re.search(r\"\\d+\", no_of_questions)\n",
    "            no_of_questions = no_of_questions[regex.start():regex.end()]\n",
    "            no_of_questions = int(no_of_questions)\n",
    "            if n == 0:\n",
    "                question_amounts.append(no_of_questions)\n",
    "            else:\n",
    "                question_amounts.append(no_of_questions - sum(question_amounts[:n]))\n",
    "            print(f'Done with day {n+1}.')\n",
    "    except requests.exceptions.ConnectionError:\n",
    "        print(\"Restarting 'get_number_of_questions_per_day'\")\n",
    "        question_amounts = get_number_of_questions_per_day(number_of_days, tag)\n",
    "    return question_amounts"
   ]
  },
  {
   "cell_type": "markdown",
   "metadata": {},
   "source": [
    "Alright so our get_number_of_questions_per_day function has been created. Let's now test it."
   ]
  },
  {
   "cell_type": "code",
   "execution_count": null,
   "metadata": {
    "scrolled": true
   },
   "outputs": [
    {
     "name": "stdout",
     "output_type": "stream",
     "text": [
      "Done with day 1.\n",
      "Done with day 2.\n",
      "Done with day 3.\n",
      "Done with day 4.\n",
      "Done with day 5.\n",
      "Done with day 6.\n",
      "Done with day 7.\n",
      "Done with day 8.\n",
      "Done with day 9.\n",
      "Done with day 10.\n",
      "Done with day 11.\n",
      "Done with day 12.\n",
      "Done with day 13.\n",
      "Done with day 14.\n",
      "Done with day 15.\n",
      "Done with day 16.\n",
      "Done with day 17.\n",
      "Done with day 18.\n",
      "Done with day 19.\n",
      "Done with day 20.\n",
      "Done with day 21.\n",
      "Done with day 22.\n",
      "Done with day 23.\n",
      "Done with day 24.\n",
      "Done with day 25.\n",
      "[1482, 859, 510, 471, 752, 780, 830, 764, 790, 495, 478, 664, 797, 815, 721, 699, 425, 452, 695, 877, 740, 777, 711, 502, 495]\n"
     ]
    }
   ],
   "source": [
    "trend_list = get_number_of_questions_per_day(25, 'python')\n",
    "print(trend_list)"
   ]
  },
  {
   "cell_type": "markdown",
   "metadata": {},
   "source": [
    "Now we can iterate this function through every tag. "
   ]
  },
  {
   "cell_type": "code",
   "execution_count": null,
   "metadata": {
    "scrolled": true
   },
   "outputs": [
    {
     "name": "stdout",
     "output_type": "stream",
     "text": [
      "Done with day 1.\n",
      "Done with day 2.\n",
      "Done with day 3.\n",
      "Done with day 4.\n",
      "Done with day 5.\n",
      "Done with day 6.\n",
      "Done with day 7.\n",
      "Done with day 8.\n",
      "Done with day 9.\n",
      "Done with day 10.\n",
      "Done with day 11.\n",
      "Done with day 12.\n",
      "Done with day 13.\n",
      "Done with day 14.\n",
      "Done with day 15.\n",
      "Done with day 16.\n",
      "Done with day 17.\n",
      "Done with day 18.\n",
      "Done with day 19.\n",
      "Done with day 20.\n",
      "Done with day 21.\n",
      "Done with day 22.\n",
      "Done with day 23.\n",
      "Done with day 24.\n",
      "Done with day 25.\n",
      "[1018, 598, 388, 367, 539, 503, 567, 558, 436, 329, 334, 454, 519, 545, 490, 482, 320, 320, 438, 512, 520, 547, 515, 360, 328]\n",
      "Done with day 1.\n",
      "Done with day 2.\n",
      "Done with day 3.\n",
      "Done with day 4.\n",
      "Done with day 5.\n",
      "Done with day 6.\n",
      "Done with day 7.\n",
      "Done with day 8.\n",
      "Done with day 9.\n",
      "Done with day 10.\n",
      "Done with day 11.\n",
      "Done with day 12.\n",
      "Done with day 13.\n",
      "Done with day 14.\n",
      "Done with day 15.\n",
      "Done with day 16.\n",
      "Done with day 17.\n",
      "Done with day 18.\n",
      "Done with day 19.\n",
      "Done with day 20.\n",
      "Done with day 21.\n",
      "Done with day 22.\n",
      "Done with day 23.\n",
      "Done with day 24.\n",
      "Done with day 25.\n",
      "[1482, 859, 511, 471, 751, 781, 829, 764, 791, 495, 483, 670, 786, 814, 722, 699, 424, 452, 714, 831, 767, 777, 711, 515, 482]\n",
      "Done with day 1.\n",
      "Done with day 2.\n",
      "Done with day 3.\n",
      "Done with day 4.\n",
      "Done with day 5.\n",
      "Done with day 6.\n",
      "Done with day 7.\n",
      "Done with day 8.\n",
      "Done with day 9.\n",
      "Done with day 10.\n",
      "Done with day 11.\n",
      "Done with day 12.\n",
      "Done with day 13.\n",
      "Done with day 14.\n",
      "Done with day 15.\n",
      "Done with day 16.\n",
      "Done with day 17.\n",
      "Done with day 18.\n",
      "Done with day 19.\n",
      "Done with day 20.\n",
      "Done with day 21.\n",
      "Done with day 22.\n",
      "Done with day 23.\n",
      "Done with day 24.\n",
      "Done with day 25.\n",
      "[530, 312, 185, 170, 248, 228, 295, 254, 278, 133, 143, 215, 236, 263, 254, 211, 173, 121, 234, 270, 285, 223, 241, 164, 140]\n",
      "Done with day 1.\n",
      "Done with day 2.\n",
      "Done with day 3.\n",
      "Done with day 4.\n",
      "Done with day 5.\n",
      "Done with day 6.\n",
      "Done with day 7.\n",
      "Done with day 8.\n",
      "Done with day 9.\n",
      "Done with day 10.\n",
      "Done with day 11.\n",
      "Done with day 12.\n",
      "Done with day 13.\n",
      "Done with day 14.\n",
      "Done with day 15.\n",
      "Done with day 16.\n",
      "Done with day 17.\n",
      "Done with day 18.\n",
      "Done with day 19.\n",
      "Done with day 20.\n",
      "Done with day 21.\n",
      "Done with day 22.\n",
      "Done with day 23.\n",
      "Done with day 24.\n",
      "Done with day 25.\n",
      "[420, 275, 115, 106, 238, 230, 234, 252, 205, 116, 103, 200, 236, 268, 235, 207, 121, 132, 207, 246, 261, 245, 261, 130, 131]\n",
      "Done with day 1.\n",
      "Done with day 2.\n",
      "Done with day 3.\n",
      "Done with day 4.\n",
      "Done with day 5.\n",
      "Done with day 6.\n",
      "Done with day 7.\n",
      "Done with day 8.\n",
      "Done with day 9.\n",
      "Done with day 10.\n",
      "Done with day 11.\n",
      "Done with day 12.\n",
      "Done with day 13.\n",
      "Done with day 14.\n",
      "Done with day 15.\n",
      "Done with day 16.\n",
      "Done with day 17.\n",
      "Done with day 18.\n",
      "Done with day 19.\n",
      "Done with day 20.\n",
      "Done with day 21.\n",
      "Done with day 22.\n",
      "Done with day 23.\n",
      "Done with day 24.\n",
      "Done with day 25.\n",
      "[301, 174, 99, 110, 159, 156, 151, 183, 152, 91, 92, 136, 155, 142, 143, 144, 94, 78, 137, 167, 160, 180, 125, 113, 82]\n"
     ]
    },
    {
     "data": {
      "image/png": "[encoded data removed]",
      "text/plain": [
       "<Figure size 432x288 with 1 Axes>"
      ]
     },
     "metadata": {
      "needs_background": "light"
     },
     "output_type": "display_data"
    }
   ],
   "source": [
    "import numpy as np\n",
    "fig, ax = plt.subplots()\n",
    "for tag in tags[:5]:\n",
    "    trend_list = get_number_of_questions_per_day(25, tag)\n",
    "    ax.plot(range(1, 26), list(reversed(trend_list)), label=tag)\n",
    "    print(trend_list)\n",
    "ax.legend()\n",
    "# Set the locations of the x-axis tick marks\n",
    "ax.set_xticks(np.arange(1, 26, 1))\n",
    "\n",
    "# Set the labels of the x-axis tick marks\n",
    "ax.set_xticklabels(np.arange(1, 26, 1))\n",
    "plt.show()"
   ]
  },
  {
   "cell_type": "code",
   "execution_count": null,
   "metadata": {},
   "outputs": [],
   "source": []
  }
 ],
 "metadata": {
  "colab": {
   "name": "Welcome to DataCamp Workspaces.ipynb",
   "provenance": []
  },
  "kernelspec": {
   "display_name": "Python 3",
   "language": "python",
   "name": "python3"
  },
  "language_info": {
   "codemirror_mode": {
    "name": "ipython",
    "version": 3
   },
   "file_extension": ".py",
   "mimetype": "text/x-python",
   "name": "python",
   "nbconvert_exporter": "python",
   "pygments_lexer": "ipython3",
   "version": "3.10.7"
  }
 },
 "nbformat": 4,
 "nbformat_minor": 5
}
